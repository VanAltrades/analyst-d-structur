{
 "cells": [
  {
   "cell_type": "code",
   "execution_count": 1,
   "metadata": {},
   "outputs": [],
   "source": [
    "import sys\n",
    "sys.path.append('../')\n",
    "\n",
    "from src.Data import Data"
   ]
  },
  {
   "cell_type": "markdown",
   "metadata": {},
   "source": [
    "# Flat Time Series Data"
   ]
  },
  {
   "cell_type": "code",
   "execution_count": 2,
   "metadata": {},
   "outputs": [],
   "source": [
    "# instantiate a class with flat filtered table\n",
    "q1_ga_organic = Data(\n",
    "    sql_path=\"../src/sql/data_time_series.sql\", # this is relative to the location you run this instance from\n",
    "    project=\"e-commerce-demo-v\",\n",
    "    dataset=\"summary\",\n",
    "    table=\"s_ga_organic\",\n",
    "    date_start=\"2017-01-01\",\n",
    "    date_end=\"2017-03-28\",\n",
    "    dim_sql_date=\"date\",\n",
    "    dim_sql_index=\"entry_page\",\n",
    "    dim_sql_dimensions=[\"pagetype\",\"product_type\"],\n",
    "    kpis=[\"visits\", \"transactions\", \"revenue\"],\n",
    "    aggs=[\"SUM\",\"SUM\",\"SUM\"],\n",
    "    where_clause=None\n",
    ")"
   ]
  },
  {
   "cell_type": "code",
   "execution_count": 3,
   "metadata": {},
   "outputs": [
    {
     "data": {
      "text/plain": [
       "{'_dim_sql_date': 'date',\n",
       " '_dim_sql_index': 'entry_page',\n",
       " '_dim_sql_dimensions': ['pagetype', 'product_type']}"
      ]
     },
     "execution_count": 3,
     "metadata": {},
     "output_type": "execute_result"
    }
   ],
   "source": [
    "q1_ga_organic._dim_dict"
   ]
  },
  {
   "cell_type": "code",
   "execution_count": 4,
   "metadata": {},
   "outputs": [
    {
     "data": {
      "text/plain": [
       "['_dim_sql_date', '_dim_sql_index', '_dim_sql_dimensions']"
      ]
     },
     "execution_count": 4,
     "metadata": {},
     "output_type": "execute_result"
    }
   ],
   "source": [
    "q1_ga_organic._dim_key_list"
   ]
  },
  {
   "cell_type": "code",
   "execution_count": 5,
   "metadata": {},
   "outputs": [
    {
     "data": {
      "text/plain": [
       "'SELECT\\n    date,\\n    -- DISTINCT _dim_index\\n    entry_page,\\n    pagetype,product_type,\\n    SUM(visits) visits, SUM(transactions) transactions, SUM(revenue) revenue, \\n\\nFROM \\n    `e-commerce-demo-v.summary.s_ga_organic` facts\\n\\nWHERE \\n    date BETWEEN \"2017-01-01\" AND \"2017-03-28\"\\n    \\n    GROUP BY 1,2,3,4'"
      ]
     },
     "execution_count": 5,
     "metadata": {},
     "output_type": "execute_result"
    }
   ],
   "source": [
    "q1_ga_organic._sql_file_string_formatted"
   ]
  },
  {
   "cell_type": "code",
   "execution_count": 6,
   "metadata": {},
   "outputs": [
    {
     "data": {
      "text/plain": [
       "{'_credential_path': '..\\\\secret.json',\n",
       " '_client': <google.cloud.bigquery.client.Client at 0x1d64f953910>,\n",
       " '_sql_path': '../src/sql/data_time_series.sql',\n",
       " '_project': 'e-commerce-demo-v',\n",
       " '_dataset': 'summary',\n",
       " '_table': 's_ga_organic',\n",
       " '_sql_file_string': 'SELECT\\n    {_dim_sql_date}\\n    -- DISTINCT {_dim_index}\\n    {_dim_sql_index}\\n    {_dim_sql_dimensions}\\n    {_kpi_aggregates}\\n\\nFROM \\n    `{_project}.{_dataset}.{_table}` facts\\n\\nWHERE \\n    date BETWEEN \"{_date_start}\" AND \"{_date_end}\"\\n    {_where_clause}\\n    {_group_by_clause}',\n",
       " '_sql_variables': {'_dataset',\n",
       "  '_date_end',\n",
       "  '_date_start',\n",
       "  '_dim_index',\n",
       "  '_dim_sql_date',\n",
       "  '_dim_sql_dimensions',\n",
       "  '_dim_sql_index',\n",
       "  '_group_by_clause',\n",
       "  '_kpi_aggregates',\n",
       "  '_project',\n",
       "  '_table',\n",
       "  '_where_clause'},\n",
       " '_date_start': '2017-01-01',\n",
       " '_date_end': '2017-03-28',\n",
       " '_dim_sql_date': 'date',\n",
       " '_dim_sql_index': 'entry_page',\n",
       " '_dim_sql_dimensions': ['pagetype', 'product_type'],\n",
       " '_dim_dict': {'_dim_sql_date': 'date',\n",
       "  '_dim_sql_index': 'entry_page',\n",
       "  '_dim_sql_dimensions': ['pagetype', 'product_type']},\n",
       " '_dim_key_list': ['_dim_sql_date', '_dim_sql_index', '_dim_sql_dimensions'],\n",
       " '_dim_value_list': ['date', 'entry_page', 'pagetype', 'product_type'],\n",
       " '_kpis': ['visits', 'transactions', 'revenue'],\n",
       " '_aggs': ['SUM', 'SUM', 'SUM'],\n",
       " '_kpi_aggregates': 'SUM(visits) visits, SUM(transactions) transactions, SUM(revenue) revenue, ',\n",
       " '_where_clause': None,\n",
       " '_group_by_clause': 'GROUP BY 1,2,3,4',\n",
       " '_sql_file_string_formatted': 'SELECT\\n    date,\\n    -- DISTINCT _dim_index\\n    entry_page,\\n    pagetype,product_type,\\n    SUM(visits) visits, SUM(transactions) transactions, SUM(revenue) revenue, \\n\\nFROM \\n    `e-commerce-demo-v.summary.s_ga_organic` facts\\n\\nWHERE \\n    date BETWEEN \"2017-01-01\" AND \"2017-03-28\"\\n    \\n    GROUP BY 1,2,3,4'}"
      ]
     },
     "execution_count": 6,
     "metadata": {},
     "output_type": "execute_result"
    }
   ],
   "source": [
    "vars(q1_ga_organic)"
   ]
  },
  {
   "cell_type": "code",
   "execution_count": 7,
   "metadata": {},
   "outputs": [],
   "source": [
    "d = q1_ga_organic.get_data_sql()\n",
    "d"
   ]
  },
  {
   "cell_type": "code",
   "execution_count": 8,
   "metadata": {},
   "outputs": [
    {
     "data": {
      "text/html": [
       "<div>\n",
       "<style scoped>\n",
       "    .dataframe tbody tr th:only-of-type {\n",
       "        vertical-align: middle;\n",
       "    }\n",
       "\n",
       "    .dataframe tbody tr th {\n",
       "        vertical-align: top;\n",
       "    }\n",
       "\n",
       "    .dataframe thead th {\n",
       "        text-align: right;\n",
       "    }\n",
       "</style>\n",
       "<table border=\"1\" class=\"dataframe\">\n",
       "  <thead>\n",
       "    <tr style=\"text-align: right;\">\n",
       "      <th></th>\n",
       "      <th>date</th>\n",
       "      <th>entry_page</th>\n",
       "      <th>pagetype</th>\n",
       "      <th>product_type</th>\n",
       "      <th>visits</th>\n",
       "      <th>transactions</th>\n",
       "      <th>revenue</th>\n",
       "    </tr>\n",
       "  </thead>\n",
       "  <tbody>\n",
       "    <tr>\n",
       "      <th>0</th>\n",
       "      <td>2017-03-08</td>\n",
       "      <td>shop.googlemerchandisestore.com/google+redesig...</td>\n",
       "      <td>category_page</td>\n",
       "      <td>None</td>\n",
       "      <td>18</td>\n",
       "      <td>1</td>\n",
       "      <td>18.99</td>\n",
       "    </tr>\n",
       "    <tr>\n",
       "      <th>1</th>\n",
       "      <td>2017-03-21</td>\n",
       "      <td>shop.googlemerchandisestore.com/google+redesig...</td>\n",
       "      <td>product_page</td>\n",
       "      <td>other</td>\n",
       "      <td>1</td>\n",
       "      <td>0</td>\n",
       "      <td>NaN</td>\n",
       "    </tr>\n",
       "    <tr>\n",
       "      <th>2</th>\n",
       "      <td>2017-03-21</td>\n",
       "      <td>shop.googlemerchandisestore.com/google+redesig...</td>\n",
       "      <td>category_page</td>\n",
       "      <td>None</td>\n",
       "      <td>15</td>\n",
       "      <td>0</td>\n",
       "      <td>NaN</td>\n",
       "    </tr>\n",
       "    <tr>\n",
       "      <th>3</th>\n",
       "      <td>2017-02-02</td>\n",
       "      <td>www.googlemerchandisestore.com/home</td>\n",
       "      <td>home_page</td>\n",
       "      <td>None</td>\n",
       "      <td>6</td>\n",
       "      <td>0</td>\n",
       "      <td>NaN</td>\n",
       "    </tr>\n",
       "    <tr>\n",
       "      <th>4</th>\n",
       "      <td>2017-03-12</td>\n",
       "      <td>shop.googlemerchandisestore.com/google+redesig...</td>\n",
       "      <td>category_page</td>\n",
       "      <td>None</td>\n",
       "      <td>16</td>\n",
       "      <td>0</td>\n",
       "      <td>NaN</td>\n",
       "    </tr>\n",
       "    <tr>\n",
       "      <th>...</th>\n",
       "      <td>...</td>\n",
       "      <td>...</td>\n",
       "      <td>...</td>\n",
       "      <td>...</td>\n",
       "      <td>...</td>\n",
       "      <td>...</td>\n",
       "      <td>...</td>\n",
       "    </tr>\n",
       "    <tr>\n",
       "      <th>3535</th>\n",
       "      <td>2017-03-17</td>\n",
       "      <td>shop.googlemerchandisestore.com/google+redesig...</td>\n",
       "      <td>product_page</td>\n",
       "      <td>drinkware</td>\n",
       "      <td>1</td>\n",
       "      <td>0</td>\n",
       "      <td>NaN</td>\n",
       "    </tr>\n",
       "    <tr>\n",
       "      <th>3536</th>\n",
       "      <td>2017-03-11</td>\n",
       "      <td>shop.googlemerchandisestore.com/google+redesig...</td>\n",
       "      <td>product_page</td>\n",
       "      <td>bags</td>\n",
       "      <td>1</td>\n",
       "      <td>0</td>\n",
       "      <td>NaN</td>\n",
       "    </tr>\n",
       "    <tr>\n",
       "      <th>3537</th>\n",
       "      <td>2017-03-19</td>\n",
       "      <td>shop.googlemerchandisestore.com/google+redesig...</td>\n",
       "      <td>product_page</td>\n",
       "      <td>apparel</td>\n",
       "      <td>1</td>\n",
       "      <td>0</td>\n",
       "      <td>NaN</td>\n",
       "    </tr>\n",
       "    <tr>\n",
       "      <th>3538</th>\n",
       "      <td>2017-02-27</td>\n",
       "      <td>shop.googlemerchandisestore.com/google+redesig...</td>\n",
       "      <td>category_page</td>\n",
       "      <td>None</td>\n",
       "      <td>1</td>\n",
       "      <td>0</td>\n",
       "      <td>NaN</td>\n",
       "    </tr>\n",
       "    <tr>\n",
       "      <th>3539</th>\n",
       "      <td>2017-03-04</td>\n",
       "      <td>shop.googlemerchandisestore.com/google+redesig...</td>\n",
       "      <td>category_page</td>\n",
       "      <td>None</td>\n",
       "      <td>1</td>\n",
       "      <td>0</td>\n",
       "      <td>NaN</td>\n",
       "    </tr>\n",
       "  </tbody>\n",
       "</table>\n",
       "<p>3540 rows × 7 columns</p>\n",
       "</div>"
      ],
      "text/plain": [
       "            date                                         entry_page  \\\n",
       "0     2017-03-08  shop.googlemerchandisestore.com/google+redesig...   \n",
       "1     2017-03-21  shop.googlemerchandisestore.com/google+redesig...   \n",
       "2     2017-03-21  shop.googlemerchandisestore.com/google+redesig...   \n",
       "3     2017-02-02                www.googlemerchandisestore.com/home   \n",
       "4     2017-03-12  shop.googlemerchandisestore.com/google+redesig...   \n",
       "...          ...                                                ...   \n",
       "3535  2017-03-17  shop.googlemerchandisestore.com/google+redesig...   \n",
       "3536  2017-03-11  shop.googlemerchandisestore.com/google+redesig...   \n",
       "3537  2017-03-19  shop.googlemerchandisestore.com/google+redesig...   \n",
       "3538  2017-02-27  shop.googlemerchandisestore.com/google+redesig...   \n",
       "3539  2017-03-04  shop.googlemerchandisestore.com/google+redesig...   \n",
       "\n",
       "           pagetype product_type  visits  transactions  revenue  \n",
       "0     category_page         None      18             1    18.99  \n",
       "1      product_page        other       1             0      NaN  \n",
       "2     category_page         None      15             0      NaN  \n",
       "3         home_page         None       6             0      NaN  \n",
       "4     category_page         None      16             0      NaN  \n",
       "...             ...          ...     ...           ...      ...  \n",
       "3535   product_page    drinkware       1             0      NaN  \n",
       "3536   product_page         bags       1             0      NaN  \n",
       "3537   product_page      apparel       1             0      NaN  \n",
       "3538  category_page         None       1             0      NaN  \n",
       "3539  category_page         None       1             0      NaN  \n",
       "\n",
       "[3540 rows x 7 columns]"
      ]
     },
     "execution_count": 8,
     "metadata": {},
     "output_type": "execute_result"
    }
   ],
   "source": [
    "q1_ga_organic._data_sql"
   ]
  },
  {
   "cell_type": "markdown",
   "metadata": {},
   "source": [
    "# Table Raw Data"
   ]
  },
  {
   "cell_type": "code",
   "execution_count": null,
   "metadata": {},
   "outputs": [],
   "source": [
    "                                                                                              "
   ]
  },
  {
   "cell_type": "code",
   "execution_count": null,
   "metadata": {},
   "outputs": [],
   "source": [
    "# instantiate a class with flat SELECT * table\n",
    "ga_organic = Data(\n",
    "    sql_path=\"../src/sql/data_table.sql\",\n",
    "    project=\"e-commerce-demo-v\",\n",
    "    dataset=\"summary\",\n",
    "    table=\"s_ga_organic\",\n",
    "    \n",
    "    # variables below are not used in this class instance example\n",
    "    date_start=\"2017-01-01\",\n",
    "    date_end=\"2017-03-28\",\n",
    "    dim_sql_date=None,\n",
    "    dim_sql_index=None,\n",
    "    dim_sql_dimensions=[\"entry_page\",\"product_type\"],\n",
    "    kpis=[\"visits\", \"transactions\", \"revenue\"],\n",
    "    aggs=[\"SUM\",\"SUM\",\"SUM\"],\n",
    "    where_clause=None\n",
    ")"
   ]
  },
  {
   "cell_type": "code",
   "execution_count": null,
   "metadata": {},
   "outputs": [],
   "source": [
    "ga_organic._table"
   ]
  },
  {
   "cell_type": "code",
   "execution_count": null,
   "metadata": {},
   "outputs": [],
   "source": [
    "ga_organic._sql_variables"
   ]
  },
  {
   "cell_type": "code",
   "execution_count": null,
   "metadata": {},
   "outputs": [],
   "source": [
    "# dir(ga_organic)\n",
    "# ga_organic.__dir__()\n",
    "vars(ga_organic)"
   ]
  },
  {
   "cell_type": "code",
   "execution_count": null,
   "metadata": {},
   "outputs": [],
   "source": [
    "d = ga_organic.get_data_sql()\n",
    "ga_organic._data_sql"
   ]
  },
  {
   "cell_type": "code",
   "execution_count": null,
   "metadata": {},
   "outputs": [],
   "source": []
  }
 ],
 "metadata": {
  "kernelspec": {
   "display_name": "venv_kernel",
   "language": "python",
   "name": "python3"
  },
  "language_info": {
   "codemirror_mode": {
    "name": "ipython",
    "version": 3
   },
   "file_extension": ".py",
   "mimetype": "text/x-python",
   "name": "python",
   "nbconvert_exporter": "python",
   "pygments_lexer": "ipython3",
   "version": "3.10.11"
  },
  "orig_nbformat": 4
 },
 "nbformat": 4,
 "nbformat_minor": 2
}
