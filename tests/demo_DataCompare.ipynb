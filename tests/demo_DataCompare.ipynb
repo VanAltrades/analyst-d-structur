{
 "cells": [
  {
   "cell_type": "markdown",
   "metadata": {},
   "source": [
    "# Setup"
   ]
  },
  {
   "cell_type": "code",
   "execution_count": 3,
   "metadata": {},
   "outputs": [],
   "source": [
    "%load_ext autoreload\n",
    "%autoreload 2"
   ]
  },
  {
   "cell_type": "code",
   "execution_count": 1,
   "metadata": {},
   "outputs": [],
   "source": [
    "import sys\n",
    "sys.path.append('../')\n",
    "\n",
    "from src.DataCompare import DataCompare"
   ]
  },
  {
   "cell_type": "code",
   "execution_count": 2,
   "metadata": {},
   "outputs": [],
   "source": [
    "comp = DataCompare(\n",
    "\n",
    "sql_path=\"../src/sql/data_compare_pre_post.sql\", # this is relative to the location you run this instance from\n",
    "# sql_path=\"../src/sql/data_test_time_series.sql\"\n",
    "project=\"e-commerce-demo-v\",\n",
    "dataset=\"summary\",\n",
    "table=\"s_ga_organic\",\n",
    "\n",
    "date_focus=\"2017-02-03\",\n",
    "period=\"month\",\n",
    "\n",
    "dim_sql_date=\"date\",\n",
    "dim_sql_index=\"entry_page\",\n",
    "dim_sql_dimensions=None, # breakout dimension to compare the test group against.. i.e. pagetype/product_type\n",
    "kpis=[\"visits\", \"transactions\", \"revenue\"],\n",
    "aggs=[\"SUM\",\"SUM\",\"SUM\"],\n",
    "where_clause=\"\",\n",
    ")"
   ]
  },
  {
   "cell_type": "code",
   "execution_count": 3,
   "metadata": {},
   "outputs": [
    {
     "name": "stdout",
     "output_type": "stream",
     "text": [
      "['2017-01-01', '2017-01-31'] ['2017-02-01', '2017-02-28']\n"
     ]
    }
   ],
   "source": [
    "print(comp._pre_period, comp._post_period)"
   ]
  },
  {
   "cell_type": "code",
   "execution_count": 3,
   "metadata": {},
   "outputs": [],
   "source": [
    "comp.get_data_sql()"
   ]
  },
  {
   "cell_type": "markdown",
   "metadata": {},
   "source": [
    "# Pre/Post DataFrames"
   ]
  },
  {
   "cell_type": "code",
   "execution_count": 4,
   "metadata": {},
   "outputs": [
    {
     "name": "stderr",
     "output_type": "stream",
     "text": [
      "c:\\Users\\vanal\\Desktop\\repositories\\analyst-d-structur\\tests\\..\\src\\DataCompare.py:203: SettingWithCopyWarning: \n",
      "A value is trying to be set on a copy of a slice from a DataFrame.\n",
      "Try using .loc[row_indexer,col_indexer] = value instead\n",
      "\n",
      "See the caveats in the documentation: https://pandas.pydata.org/pandas-docs/stable/user_guide/indexing.html#returning-a-view-versus-a-copy\n",
      "  pre_df['focus_date'] = self._d_start_comparison\n",
      "c:\\Users\\vanal\\Desktop\\repositories\\analyst-d-structur\\tests\\..\\src\\DataCompare.py:204: SettingWithCopyWarning: \n",
      "A value is trying to be set on a copy of a slice from a DataFrame.\n",
      "Try using .loc[row_indexer,col_indexer] = value instead\n",
      "\n",
      "See the caveats in the documentation: https://pandas.pydata.org/pandas-docs/stable/user_guide/indexing.html#returning-a-view-versus-a-copy\n",
      "  pre_df['period'] = self._period\n",
      "c:\\Users\\vanal\\Desktop\\repositories\\analyst-d-structur\\tests\\..\\src\\DataCompare.py:207: SettingWithCopyWarning: \n",
      "A value is trying to be set on a copy of a slice from a DataFrame.\n",
      "Try using .loc[row_indexer,col_indexer] = value instead\n",
      "\n",
      "See the caveats in the documentation: https://pandas.pydata.org/pandas-docs/stable/user_guide/indexing.html#returning-a-view-versus-a-copy\n",
      "  post_df['focus_date'] = self._date_start\n",
      "c:\\Users\\vanal\\Desktop\\repositories\\analyst-d-structur\\tests\\..\\src\\DataCompare.py:208: SettingWithCopyWarning: \n",
      "A value is trying to be set on a copy of a slice from a DataFrame.\n",
      "Try using .loc[row_indexer,col_indexer] = value instead\n",
      "\n",
      "See the caveats in the documentation: https://pandas.pydata.org/pandas-docs/stable/user_guide/indexing.html#returning-a-view-versus-a-copy\n",
      "  post_df['period'] = self._period\n"
     ]
    },
    {
     "data": {
      "text/html": [
       "<div>\n",
       "<style scoped>\n",
       "    .dataframe tbody tr th:only-of-type {\n",
       "        vertical-align: middle;\n",
       "    }\n",
       "\n",
       "    .dataframe tbody tr th {\n",
       "        vertical-align: top;\n",
       "    }\n",
       "\n",
       "    .dataframe thead th {\n",
       "        text-align: right;\n",
       "    }\n",
       "</style>\n",
       "<table border=\"1\" class=\"dataframe\">\n",
       "  <thead>\n",
       "    <tr style=\"text-align: right;\">\n",
       "      <th></th>\n",
       "      <th>date</th>\n",
       "      <th>entry_page</th>\n",
       "      <th>visits</th>\n",
       "      <th>transactions</th>\n",
       "      <th>revenue</th>\n",
       "      <th>focus_date</th>\n",
       "      <th>period</th>\n",
       "    </tr>\n",
       "  </thead>\n",
       "  <tbody>\n",
       "    <tr>\n",
       "      <th>0</th>\n",
       "      <td>2017-01-08</td>\n",
       "      <td>shop.googlemerchandisestore.com/google+redesig...</td>\n",
       "      <td>8</td>\n",
       "      <td>0</td>\n",
       "      <td>NaN</td>\n",
       "      <td>2017-01-01</td>\n",
       "      <td>month</td>\n",
       "    </tr>\n",
       "    <tr>\n",
       "      <th>1</th>\n",
       "      <td>2017-01-09</td>\n",
       "      <td>shop.googlemerchandisestore.com/google+redesig...</td>\n",
       "      <td>1</td>\n",
       "      <td>0</td>\n",
       "      <td>NaN</td>\n",
       "      <td>2017-01-01</td>\n",
       "      <td>month</td>\n",
       "    </tr>\n",
       "    <tr>\n",
       "      <th>3</th>\n",
       "      <td>2017-01-28</td>\n",
       "      <td>www.googlemerchandisestore.com/home</td>\n",
       "      <td>10</td>\n",
       "      <td>0</td>\n",
       "      <td>NaN</td>\n",
       "      <td>2017-01-01</td>\n",
       "      <td>month</td>\n",
       "    </tr>\n",
       "    <tr>\n",
       "      <th>4</th>\n",
       "      <td>2017-01-01</td>\n",
       "      <td>www.googlemerchandisestore.com/home</td>\n",
       "      <td>214</td>\n",
       "      <td>0</td>\n",
       "      <td>NaN</td>\n",
       "      <td>2017-01-01</td>\n",
       "      <td>month</td>\n",
       "    </tr>\n",
       "    <tr>\n",
       "      <th>5</th>\n",
       "      <td>2017-01-01</td>\n",
       "      <td>shop.googlemerchandisestore.com/google+redesig...</td>\n",
       "      <td>3</td>\n",
       "      <td>0</td>\n",
       "      <td>NaN</td>\n",
       "      <td>2017-01-01</td>\n",
       "      <td>month</td>\n",
       "    </tr>\n",
       "  </tbody>\n",
       "</table>\n",
       "</div>"
      ],
      "text/plain": [
       "        date                                         entry_page  visits  \\\n",
       "0 2017-01-08  shop.googlemerchandisestore.com/google+redesig...       8   \n",
       "1 2017-01-09  shop.googlemerchandisestore.com/google+redesig...       1   \n",
       "3 2017-01-28                www.googlemerchandisestore.com/home      10   \n",
       "4 2017-01-01                www.googlemerchandisestore.com/home     214   \n",
       "5 2017-01-01  shop.googlemerchandisestore.com/google+redesig...       3   \n",
       "\n",
       "   transactions  revenue  focus_date period  \n",
       "0             0      NaN  2017-01-01  month  \n",
       "1             0      NaN  2017-01-01  month  \n",
       "3             0      NaN  2017-01-01  month  \n",
       "4             0      NaN  2017-01-01  month  \n",
       "5             0      NaN  2017-01-01  month  "
      ]
     },
     "metadata": {},
     "output_type": "display_data"
    },
    {
     "data": {
      "text/html": [
       "<div>\n",
       "<style scoped>\n",
       "    .dataframe tbody tr th:only-of-type {\n",
       "        vertical-align: middle;\n",
       "    }\n",
       "\n",
       "    .dataframe tbody tr th {\n",
       "        vertical-align: top;\n",
       "    }\n",
       "\n",
       "    .dataframe thead th {\n",
       "        text-align: right;\n",
       "    }\n",
       "</style>\n",
       "<table border=\"1\" class=\"dataframe\">\n",
       "  <thead>\n",
       "    <tr style=\"text-align: right;\">\n",
       "      <th></th>\n",
       "      <th>date</th>\n",
       "      <th>entry_page</th>\n",
       "      <th>visits</th>\n",
       "      <th>transactions</th>\n",
       "      <th>revenue</th>\n",
       "      <th>focus_date</th>\n",
       "      <th>period</th>\n",
       "    </tr>\n",
       "  </thead>\n",
       "  <tbody>\n",
       "    <tr>\n",
       "      <th>2</th>\n",
       "      <td>2017-02-21</td>\n",
       "      <td>www.googlemerchandisestore.com/home</td>\n",
       "      <td>489</td>\n",
       "      <td>3</td>\n",
       "      <td>1170.78</td>\n",
       "      <td>2017-02-01</td>\n",
       "      <td>month</td>\n",
       "    </tr>\n",
       "    <tr>\n",
       "      <th>7</th>\n",
       "      <td>2017-02-02</td>\n",
       "      <td>www.googlemerchandisestore.com/home</td>\n",
       "      <td>6</td>\n",
       "      <td>0</td>\n",
       "      <td>NaN</td>\n",
       "      <td>2017-02-01</td>\n",
       "      <td>month</td>\n",
       "    </tr>\n",
       "    <tr>\n",
       "      <th>10</th>\n",
       "      <td>2017-02-14</td>\n",
       "      <td>shop.googlemerchandisestore.com/google+redesig...</td>\n",
       "      <td>8</td>\n",
       "      <td>0</td>\n",
       "      <td>NaN</td>\n",
       "      <td>2017-02-01</td>\n",
       "      <td>month</td>\n",
       "    </tr>\n",
       "    <tr>\n",
       "      <th>11</th>\n",
       "      <td>2017-02-14</td>\n",
       "      <td>shop.googlemerchandisestore.com/google+redesig...</td>\n",
       "      <td>1</td>\n",
       "      <td>0</td>\n",
       "      <td>NaN</td>\n",
       "      <td>2017-02-01</td>\n",
       "      <td>month</td>\n",
       "    </tr>\n",
       "    <tr>\n",
       "      <th>12</th>\n",
       "      <td>2017-02-15</td>\n",
       "      <td>shop.googlemerchandisestore.com/google+redesig...</td>\n",
       "      <td>29</td>\n",
       "      <td>0</td>\n",
       "      <td>NaN</td>\n",
       "      <td>2017-02-01</td>\n",
       "      <td>month</td>\n",
       "    </tr>\n",
       "  </tbody>\n",
       "</table>\n",
       "</div>"
      ],
      "text/plain": [
       "         date                                         entry_page  visits  \\\n",
       "2  2017-02-21                www.googlemerchandisestore.com/home     489   \n",
       "7  2017-02-02                www.googlemerchandisestore.com/home       6   \n",
       "10 2017-02-14  shop.googlemerchandisestore.com/google+redesig...       8   \n",
       "11 2017-02-14  shop.googlemerchandisestore.com/google+redesig...       1   \n",
       "12 2017-02-15  shop.googlemerchandisestore.com/google+redesig...      29   \n",
       "\n",
       "    transactions  revenue  focus_date period  \n",
       "2              3  1170.78  2017-02-01  month  \n",
       "7              0      NaN  2017-02-01  month  \n",
       "10             0      NaN  2017-02-01  month  \n",
       "11             0      NaN  2017-02-01  month  \n",
       "12             0      NaN  2017-02-01  month  "
      ]
     },
     "metadata": {},
     "output_type": "display_data"
    }
   ],
   "source": [
    "comp.get_data_pre_post()\n",
    "display(comp._data_pre.head())\n",
    "display(comp._data_post.head())"
   ]
  },
  {
   "cell_type": "markdown",
   "metadata": {},
   "source": [
    "# Pre/Post Comparisons"
   ]
  },
  {
   "cell_type": "code",
   "execution_count": 4,
   "metadata": {},
   "outputs": [
    {
     "data": {
      "text/html": [
       "<div>\n",
       "<style scoped>\n",
       "    .dataframe tbody tr th:only-of-type {\n",
       "        vertical-align: middle;\n",
       "    }\n",
       "\n",
       "    .dataframe tbody tr th {\n",
       "        vertical-align: top;\n",
       "    }\n",
       "\n",
       "    .dataframe thead th {\n",
       "        text-align: right;\n",
       "    }\n",
       "</style>\n",
       "<table border=\"1\" class=\"dataframe\">\n",
       "  <thead>\n",
       "    <tr style=\"text-align: right;\">\n",
       "      <th></th>\n",
       "      <th>visits_pre</th>\n",
       "      <th>visits_post</th>\n",
       "      <th>delta</th>\n",
       "      <th>%delta</th>\n",
       "    </tr>\n",
       "    <tr>\n",
       "      <th>entry_page</th>\n",
       "      <th></th>\n",
       "      <th></th>\n",
       "      <th></th>\n",
       "      <th></th>\n",
       "    </tr>\n",
       "  </thead>\n",
       "  <tbody>\n",
       "    <tr>\n",
       "      <th>shop.googlemerchandisestore.com/asearch.html</th>\n",
       "      <td>10</td>\n",
       "      <td>42</td>\n",
       "      <td>32</td>\n",
       "      <td>320.00%</td>\n",
       "    </tr>\n",
       "    <tr>\n",
       "      <th>shop.googlemerchandisestore.com/asearch.html/quickview</th>\n",
       "      <td>1</td>\n",
       "      <td>1</td>\n",
       "      <td>0</td>\n",
       "      <td>0.00%</td>\n",
       "    </tr>\n",
       "    <tr>\n",
       "      <th>shop.googlemerchandisestore.com/basket.html</th>\n",
       "      <td>20</td>\n",
       "      <td>116</td>\n",
       "      <td>96</td>\n",
       "      <td>480.00%</td>\n",
       "    </tr>\n",
       "    <tr>\n",
       "      <th>shop.googlemerchandisestore.com/google+redesign/accessories</th>\n",
       "      <td>4</td>\n",
       "      <td>52</td>\n",
       "      <td>48</td>\n",
       "      <td>1200.00%</td>\n",
       "    </tr>\n",
       "    <tr>\n",
       "      <th>shop.googlemerchandisestore.com/google+redesign/accessories/fun</th>\n",
       "      <td>1</td>\n",
       "      <td>14</td>\n",
       "      <td>13</td>\n",
       "      <td>1300.00%</td>\n",
       "    </tr>\n",
       "    <tr>\n",
       "      <th>...</th>\n",
       "      <td>...</td>\n",
       "      <td>...</td>\n",
       "      <td>...</td>\n",
       "      <td>...</td>\n",
       "    </tr>\n",
       "    <tr>\n",
       "      <th>shop.googlemerchandisestore.com/store-policies/frequently-asked-questions/home</th>\n",
       "      <td>1</td>\n",
       "      <td>10</td>\n",
       "      <td>9</td>\n",
       "      <td>900.00%</td>\n",
       "    </tr>\n",
       "    <tr>\n",
       "      <th>shop.googlemerchandisestore.com/store-policies/return-policy/home</th>\n",
       "      <td>1</td>\n",
       "      <td>1</td>\n",
       "      <td>0</td>\n",
       "      <td>0.00%</td>\n",
       "    </tr>\n",
       "    <tr>\n",
       "      <th>shop.googlemerchandisestore.com/store.html</th>\n",
       "      <td>9</td>\n",
       "      <td>33</td>\n",
       "      <td>24</td>\n",
       "      <td>266.67%</td>\n",
       "    </tr>\n",
       "    <tr>\n",
       "      <th>shop.googlemerchandisestore.com/storeitem.html</th>\n",
       "      <td>2</td>\n",
       "      <td>6</td>\n",
       "      <td>4</td>\n",
       "      <td>200.00%</td>\n",
       "    </tr>\n",
       "    <tr>\n",
       "      <th>www.googlemerchandisestore.com/home</th>\n",
       "      <td>1200</td>\n",
       "      <td>7554</td>\n",
       "      <td>6354</td>\n",
       "      <td>529.50%</td>\n",
       "    </tr>\n",
       "  </tbody>\n",
       "</table>\n",
       "<p>92 rows × 4 columns</p>\n",
       "</div>"
      ],
      "text/plain": [
       "                                                    visits_pre  visits_post  \\\n",
       "entry_page                                                                    \n",
       "shop.googlemerchandisestore.com/asearch.html                10           42   \n",
       "shop.googlemerchandisestore.com/asearch.html/qu...           1            1   \n",
       "shop.googlemerchandisestore.com/basket.html                 20          116   \n",
       "shop.googlemerchandisestore.com/google+redesign...           4           52   \n",
       "shop.googlemerchandisestore.com/google+redesign...           1           14   \n",
       "...                                                        ...          ...   \n",
       "shop.googlemerchandisestore.com/store-policies/...           1           10   \n",
       "shop.googlemerchandisestore.com/store-policies/...           1            1   \n",
       "shop.googlemerchandisestore.com/store.html                   9           33   \n",
       "shop.googlemerchandisestore.com/storeitem.html               2            6   \n",
       "www.googlemerchandisestore.com/home                       1200         7554   \n",
       "\n",
       "                                                    delta    %delta  \n",
       "entry_page                                                           \n",
       "shop.googlemerchandisestore.com/asearch.html           32   320.00%  \n",
       "shop.googlemerchandisestore.com/asearch.html/qu...      0     0.00%  \n",
       "shop.googlemerchandisestore.com/basket.html            96   480.00%  \n",
       "shop.googlemerchandisestore.com/google+redesign...     48  1200.00%  \n",
       "shop.googlemerchandisestore.com/google+redesign...     13  1300.00%  \n",
       "...                                                   ...       ...  \n",
       "shop.googlemerchandisestore.com/store-policies/...      9   900.00%  \n",
       "shop.googlemerchandisestore.com/store-policies/...      0     0.00%  \n",
       "shop.googlemerchandisestore.com/store.html             24   266.67%  \n",
       "shop.googlemerchandisestore.com/storeitem.html          4   200.00%  \n",
       "www.googlemerchandisestore.com/home                  6354   529.50%  \n",
       "\n",
       "[92 rows x 4 columns]"
      ]
     },
     "execution_count": 4,
     "metadata": {},
     "output_type": "execute_result"
    }
   ],
   "source": [
    "comp.get_data_pre_post_comparison(dimension_column=\"entry_page\",metric_column=\"visits\",metric_column_agg=\"sum\")"
   ]
  },
  {
   "cell_type": "markdown",
   "metadata": {},
   "source": [
    "# Improving v. Declining Dimensions"
   ]
  },
  {
   "cell_type": "code",
   "execution_count": 5,
   "metadata": {},
   "outputs": [
    {
     "data": {
      "text/html": [
       "<div>\n",
       "<style scoped>\n",
       "    .dataframe tbody tr th:only-of-type {\n",
       "        vertical-align: middle;\n",
       "    }\n",
       "\n",
       "    .dataframe tbody tr th {\n",
       "        vertical-align: top;\n",
       "    }\n",
       "\n",
       "    .dataframe thead th {\n",
       "        text-align: right;\n",
       "    }\n",
       "</style>\n",
       "<table border=\"1\" class=\"dataframe\">\n",
       "  <thead>\n",
       "    <tr style=\"text-align: right;\">\n",
       "      <th></th>\n",
       "      <th>visits_pre</th>\n",
       "      <th>visits_post</th>\n",
       "      <th>delta</th>\n",
       "      <th>%delta</th>\n",
       "    </tr>\n",
       "    <tr>\n",
       "      <th>entry_page</th>\n",
       "      <th></th>\n",
       "      <th></th>\n",
       "      <th></th>\n",
       "      <th></th>\n",
       "    </tr>\n",
       "  </thead>\n",
       "  <tbody>\n",
       "    <tr>\n",
       "      <th>www.googlemerchandisestore.com/home</th>\n",
       "      <td>1200</td>\n",
       "      <td>7554</td>\n",
       "      <td>6354</td>\n",
       "      <td>529.50%</td>\n",
       "    </tr>\n",
       "    <tr>\n",
       "      <th>shop.googlemerchandisestore.com/google+redesign/shop+by+brand/youtube</th>\n",
       "      <td>523</td>\n",
       "      <td>3487</td>\n",
       "      <td>2964</td>\n",
       "      <td>566.73%</td>\n",
       "    </tr>\n",
       "    <tr>\n",
       "      <th>shop.googlemerchandisestore.com/home</th>\n",
       "      <td>320</td>\n",
       "      <td>2963</td>\n",
       "      <td>2643</td>\n",
       "      <td>825.94%</td>\n",
       "    </tr>\n",
       "    <tr>\n",
       "      <th>shop.googlemerchandisestore.com/google+redesign/apparel/men++s/men++s+t+shirts</th>\n",
       "      <td>179</td>\n",
       "      <td>1273</td>\n",
       "      <td>1094</td>\n",
       "      <td>611.17%</td>\n",
       "    </tr>\n",
       "    <tr>\n",
       "      <th>shop.googlemerchandisestore.com/google+redesign/apparel/men++s/men++s+outerwear</th>\n",
       "      <td>67</td>\n",
       "      <td>419</td>\n",
       "      <td>352</td>\n",
       "      <td>525.37%</td>\n",
       "    </tr>\n",
       "    <tr>\n",
       "      <th>...</th>\n",
       "      <td>...</td>\n",
       "      <td>...</td>\n",
       "      <td>...</td>\n",
       "      <td>...</td>\n",
       "    </tr>\n",
       "    <tr>\n",
       "      <th>shop.googlemerchandisestore.com/google+redesign/apparel/headgear/youtube+wool+heather+cap+heather+black.axd</th>\n",
       "      <td>1</td>\n",
       "      <td>2</td>\n",
       "      <td>1</td>\n",
       "      <td>100.00%</td>\n",
       "    </tr>\n",
       "    <tr>\n",
       "      <th>shop.googlemerchandisestore.com/google+redesign/drinkware/mugs/android+4oz+rise+mug.axd</th>\n",
       "      <td>3</td>\n",
       "      <td>4</td>\n",
       "      <td>1</td>\n",
       "      <td>33.33%</td>\n",
       "    </tr>\n",
       "    <tr>\n",
       "      <th>shop.googlemerchandisestore.com/google+redesign/electronics/electronics+accessories</th>\n",
       "      <td>4</td>\n",
       "      <td>5</td>\n",
       "      <td>1</td>\n",
       "      <td>25.00%</td>\n",
       "    </tr>\n",
       "    <tr>\n",
       "      <th>shop.googlemerchandisestore.com/google+redesign/office/stickers/google+doodle+decal.axd</th>\n",
       "      <td>1</td>\n",
       "      <td>2</td>\n",
       "      <td>1</td>\n",
       "      <td>100.00%</td>\n",
       "    </tr>\n",
       "    <tr>\n",
       "      <th>shop.googlemerchandisestore.com/google+redesign/shop+by+brand/waze+baby+on+board+window+decal.axd</th>\n",
       "      <td>1</td>\n",
       "      <td>2</td>\n",
       "      <td>1</td>\n",
       "      <td>100.00%</td>\n",
       "    </tr>\n",
       "  </tbody>\n",
       "</table>\n",
       "<p>79 rows × 4 columns</p>\n",
       "</div>"
      ],
      "text/plain": [
       "                                                    visits_pre  visits_post  \\\n",
       "entry_page                                                                    \n",
       "www.googlemerchandisestore.com/home                       1200         7554   \n",
       "shop.googlemerchandisestore.com/google+redesign...         523         3487   \n",
       "shop.googlemerchandisestore.com/home                       320         2963   \n",
       "shop.googlemerchandisestore.com/google+redesign...         179         1273   \n",
       "shop.googlemerchandisestore.com/google+redesign...          67          419   \n",
       "...                                                        ...          ...   \n",
       "shop.googlemerchandisestore.com/google+redesign...           1            2   \n",
       "shop.googlemerchandisestore.com/google+redesign...           3            4   \n",
       "shop.googlemerchandisestore.com/google+redesign...           4            5   \n",
       "shop.googlemerchandisestore.com/google+redesign...           1            2   \n",
       "shop.googlemerchandisestore.com/google+redesign...           1            2   \n",
       "\n",
       "                                                    delta   %delta  \n",
       "entry_page                                                          \n",
       "www.googlemerchandisestore.com/home                  6354  529.50%  \n",
       "shop.googlemerchandisestore.com/google+redesign...   2964  566.73%  \n",
       "shop.googlemerchandisestore.com/home                 2643  825.94%  \n",
       "shop.googlemerchandisestore.com/google+redesign...   1094  611.17%  \n",
       "shop.googlemerchandisestore.com/google+redesign...    352  525.37%  \n",
       "...                                                   ...      ...  \n",
       "shop.googlemerchandisestore.com/google+redesign...      1  100.00%  \n",
       "shop.googlemerchandisestore.com/google+redesign...      1   33.33%  \n",
       "shop.googlemerchandisestore.com/google+redesign...      1   25.00%  \n",
       "shop.googlemerchandisestore.com/google+redesign...      1  100.00%  \n",
       "shop.googlemerchandisestore.com/google+redesign...      1  100.00%  \n",
       "\n",
       "[79 rows x 4 columns]"
      ]
     },
     "execution_count": 5,
     "metadata": {},
     "output_type": "execute_result"
    }
   ],
   "source": [
    "comp.get_improving_dimensions()"
   ]
  },
  {
   "cell_type": "code",
   "execution_count": 6,
   "metadata": {},
   "outputs": [
    {
     "data": {
      "text/html": [
       "<div>\n",
       "<style scoped>\n",
       "    .dataframe tbody tr th:only-of-type {\n",
       "        vertical-align: middle;\n",
       "    }\n",
       "\n",
       "    .dataframe tbody tr th {\n",
       "        vertical-align: top;\n",
       "    }\n",
       "\n",
       "    .dataframe thead th {\n",
       "        text-align: right;\n",
       "    }\n",
       "</style>\n",
       "<table border=\"1\" class=\"dataframe\">\n",
       "  <thead>\n",
       "    <tr style=\"text-align: right;\">\n",
       "      <th></th>\n",
       "      <th>visits_pre</th>\n",
       "      <th>visits_post</th>\n",
       "      <th>delta</th>\n",
       "      <th>%delta</th>\n",
       "    </tr>\n",
       "    <tr>\n",
       "      <th>entry_page</th>\n",
       "      <th></th>\n",
       "      <th></th>\n",
       "      <th></th>\n",
       "      <th></th>\n",
       "    </tr>\n",
       "  </thead>\n",
       "  <tbody>\n",
       "    <tr>\n",
       "      <th>shop.googlemerchandisestore.com/google+redesign/apparel/men+s+t+shirts/youtube+mens+s+s+hero+tee.axd</th>\n",
       "      <td>2</td>\n",
       "      <td>1</td>\n",
       "      <td>-1</td>\n",
       "      <td>-50.00%</td>\n",
       "    </tr>\n",
       "    <tr>\n",
       "      <th>shop.googlemerchandisestore.com/google+redesign/electronics/flashlights</th>\n",
       "      <td>2</td>\n",
       "      <td>1</td>\n",
       "      <td>-1</td>\n",
       "      <td>-50.00%</td>\n",
       "    </tr>\n",
       "  </tbody>\n",
       "</table>\n",
       "</div>"
      ],
      "text/plain": [
       "                                                    visits_pre  visits_post  \\\n",
       "entry_page                                                                    \n",
       "shop.googlemerchandisestore.com/google+redesign...           2            1   \n",
       "shop.googlemerchandisestore.com/google+redesign...           2            1   \n",
       "\n",
       "                                                    delta   %delta  \n",
       "entry_page                                                          \n",
       "shop.googlemerchandisestore.com/google+redesign...     -1  -50.00%  \n",
       "shop.googlemerchandisestore.com/google+redesign...     -1  -50.00%  "
      ]
     },
     "execution_count": 6,
     "metadata": {},
     "output_type": "execute_result"
    }
   ],
   "source": [
    "comp.get_declining_dimensions()"
   ]
  },
  {
   "cell_type": "code",
   "execution_count": 7,
   "metadata": {},
   "outputs": [
    {
     "data": {
      "text/html": [
       "<div>\n",
       "<style scoped>\n",
       "    .dataframe tbody tr th:only-of-type {\n",
       "        vertical-align: middle;\n",
       "    }\n",
       "\n",
       "    .dataframe tbody tr th {\n",
       "        vertical-align: top;\n",
       "    }\n",
       "\n",
       "    .dataframe thead th {\n",
       "        text-align: right;\n",
       "    }\n",
       "</style>\n",
       "<table border=\"1\" class=\"dataframe\">\n",
       "  <thead>\n",
       "    <tr style=\"text-align: right;\">\n",
       "      <th></th>\n",
       "      <th>visits_pre</th>\n",
       "      <th>visits_post</th>\n",
       "      <th>delta</th>\n",
       "      <th>%delta</th>\n",
       "    </tr>\n",
       "    <tr>\n",
       "      <th>entry_page</th>\n",
       "      <th></th>\n",
       "      <th></th>\n",
       "      <th></th>\n",
       "      <th></th>\n",
       "    </tr>\n",
       "  </thead>\n",
       "  <tbody>\n",
       "    <tr>\n",
       "      <th>shop.googlemerchandisestore.com/asearch.html/quickview</th>\n",
       "      <td>1</td>\n",
       "      <td>1</td>\n",
       "      <td>0</td>\n",
       "      <td>0.00%</td>\n",
       "    </tr>\n",
       "    <tr>\n",
       "      <th>shop.googlemerchandisestore.com/google+redesign/apparel/kids/kids+infant/google+zip+hood+pink.axd</th>\n",
       "      <td>1</td>\n",
       "      <td>1</td>\n",
       "      <td>0</td>\n",
       "      <td>0.00%</td>\n",
       "    </tr>\n",
       "    <tr>\n",
       "      <th>shop.googlemerchandisestore.com/google+redesign/apparel/women+s/women+s+t+shirts/google+womens+short+sleeve+hero+tee.axd</th>\n",
       "      <td>1</td>\n",
       "      <td>1</td>\n",
       "      <td>0</td>\n",
       "      <td>0.00%</td>\n",
       "    </tr>\n",
       "    <tr>\n",
       "      <th>shop.googlemerchandisestore.com/google+redesign/drinkware/bottles/google+accent+insulated+stainless+steel+bottle.axd</th>\n",
       "      <td>1</td>\n",
       "      <td>1</td>\n",
       "      <td>0</td>\n",
       "      <td>0.00%</td>\n",
       "    </tr>\n",
       "    <tr>\n",
       "      <th>shop.googlemerchandisestore.com/google+redesign/drinkware/bottles/google+insulated+stainless+steel+bottle.axd</th>\n",
       "      <td>1</td>\n",
       "      <td>1</td>\n",
       "      <td>0</td>\n",
       "      <td>0.00%</td>\n",
       "    </tr>\n",
       "    <tr>\n",
       "      <th>shop.googlemerchandisestore.com/google+redesign/electronics/audio/micro+wireless+earbud.axd</th>\n",
       "      <td>3</td>\n",
       "      <td>3</td>\n",
       "      <td>0</td>\n",
       "      <td>0.00%</td>\n",
       "    </tr>\n",
       "    <tr>\n",
       "      <th>shop.googlemerchandisestore.com/google+redesign/electronics/google+pocket+bluetooth+speaker.axd</th>\n",
       "      <td>1</td>\n",
       "      <td>1</td>\n",
       "      <td>0</td>\n",
       "      <td>0.00%</td>\n",
       "    </tr>\n",
       "    <tr>\n",
       "      <th>shop.googlemerchandisestore.com/google+redesign/lifestyle</th>\n",
       "      <td>1</td>\n",
       "      <td>1</td>\n",
       "      <td>0</td>\n",
       "      <td>0.00%</td>\n",
       "    </tr>\n",
       "    <tr>\n",
       "      <th>shop.googlemerchandisestore.com/google+redesign/office/notebooks+journals/google+metallic+notebook+set.axd</th>\n",
       "      <td>1</td>\n",
       "      <td>1</td>\n",
       "      <td>0</td>\n",
       "      <td>0.00%</td>\n",
       "    </tr>\n",
       "    <tr>\n",
       "      <th>shop.googlemerchandisestore.com/google+redesign/office/notebooks+journals/red+spiral+google+notebook.axd</th>\n",
       "      <td>1</td>\n",
       "      <td>1</td>\n",
       "      <td>0</td>\n",
       "      <td>0.00%</td>\n",
       "    </tr>\n",
       "    <tr>\n",
       "      <th>shop.googlemerchandisestore.com/store-policies/return-policy/home</th>\n",
       "      <td>1</td>\n",
       "      <td>1</td>\n",
       "      <td>0</td>\n",
       "      <td>0.00%</td>\n",
       "    </tr>\n",
       "  </tbody>\n",
       "</table>\n",
       "</div>"
      ],
      "text/plain": [
       "                                                    visits_pre  visits_post  \\\n",
       "entry_page                                                                    \n",
       "shop.googlemerchandisestore.com/asearch.html/qu...           1            1   \n",
       "shop.googlemerchandisestore.com/google+redesign...           1            1   \n",
       "shop.googlemerchandisestore.com/google+redesign...           1            1   \n",
       "shop.googlemerchandisestore.com/google+redesign...           1            1   \n",
       "shop.googlemerchandisestore.com/google+redesign...           1            1   \n",
       "shop.googlemerchandisestore.com/google+redesign...           3            3   \n",
       "shop.googlemerchandisestore.com/google+redesign...           1            1   \n",
       "shop.googlemerchandisestore.com/google+redesign...           1            1   \n",
       "shop.googlemerchandisestore.com/google+redesign...           1            1   \n",
       "shop.googlemerchandisestore.com/google+redesign...           1            1   \n",
       "shop.googlemerchandisestore.com/store-policies/...           1            1   \n",
       "\n",
       "                                                    delta %delta  \n",
       "entry_page                                                        \n",
       "shop.googlemerchandisestore.com/asearch.html/qu...      0  0.00%  \n",
       "shop.googlemerchandisestore.com/google+redesign...      0  0.00%  \n",
       "shop.googlemerchandisestore.com/google+redesign...      0  0.00%  \n",
       "shop.googlemerchandisestore.com/google+redesign...      0  0.00%  \n",
       "shop.googlemerchandisestore.com/google+redesign...      0  0.00%  \n",
       "shop.googlemerchandisestore.com/google+redesign...      0  0.00%  \n",
       "shop.googlemerchandisestore.com/google+redesign...      0  0.00%  \n",
       "shop.googlemerchandisestore.com/google+redesign...      0  0.00%  \n",
       "shop.googlemerchandisestore.com/google+redesign...      0  0.00%  \n",
       "shop.googlemerchandisestore.com/google+redesign...      0  0.00%  \n",
       "shop.googlemerchandisestore.com/store-policies/...      0  0.00%  "
      ]
     },
     "execution_count": 7,
     "metadata": {},
     "output_type": "execute_result"
    }
   ],
   "source": [
    "comp.get_static_dimensions()"
   ]
  },
  {
   "cell_type": "markdown",
   "metadata": {},
   "source": [
    "# New v. Lost Dimensions"
   ]
  },
  {
   "cell_type": "code",
   "execution_count": 10,
   "metadata": {},
   "outputs": [
    {
     "data": {
      "text/html": [
       "<div>\n",
       "<style scoped>\n",
       "    .dataframe tbody tr th:only-of-type {\n",
       "        vertical-align: middle;\n",
       "    }\n",
       "\n",
       "    .dataframe tbody tr th {\n",
       "        vertical-align: top;\n",
       "    }\n",
       "\n",
       "    .dataframe thead th {\n",
       "        text-align: right;\n",
       "    }\n",
       "</style>\n",
       "<table border=\"1\" class=\"dataframe\">\n",
       "  <thead>\n",
       "    <tr style=\"text-align: right;\">\n",
       "      <th></th>\n",
       "      <th>visits_pre</th>\n",
       "      <th>visits_post</th>\n",
       "      <th>delta</th>\n",
       "      <th>%delta</th>\n",
       "    </tr>\n",
       "    <tr>\n",
       "      <th>entry_page</th>\n",
       "      <th></th>\n",
       "      <th></th>\n",
       "      <th></th>\n",
       "      <th></th>\n",
       "    </tr>\n",
       "  </thead>\n",
       "  <tbody>\n",
       "  </tbody>\n",
       "</table>\n",
       "</div>"
      ],
      "text/plain": [
       "Empty DataFrame\n",
       "Columns: [visits_pre, visits_post, delta, %delta]\n",
       "Index: []"
      ]
     },
     "execution_count": 10,
     "metadata": {},
     "output_type": "execute_result"
    }
   ],
   "source": [
    "comp.get_new_dimensions(\"visits\")"
   ]
  },
  {
   "cell_type": "code",
   "execution_count": 11,
   "metadata": {},
   "outputs": [
    {
     "data": {
      "text/html": [
       "<div>\n",
       "<style scoped>\n",
       "    .dataframe tbody tr th:only-of-type {\n",
       "        vertical-align: middle;\n",
       "    }\n",
       "\n",
       "    .dataframe tbody tr th {\n",
       "        vertical-align: top;\n",
       "    }\n",
       "\n",
       "    .dataframe thead th {\n",
       "        text-align: right;\n",
       "    }\n",
       "</style>\n",
       "<table border=\"1\" class=\"dataframe\">\n",
       "  <thead>\n",
       "    <tr style=\"text-align: right;\">\n",
       "      <th></th>\n",
       "      <th>visits_pre</th>\n",
       "      <th>visits_post</th>\n",
       "      <th>delta</th>\n",
       "      <th>%delta</th>\n",
       "    </tr>\n",
       "    <tr>\n",
       "      <th>entry_page</th>\n",
       "      <th></th>\n",
       "      <th></th>\n",
       "      <th></th>\n",
       "      <th></th>\n",
       "    </tr>\n",
       "  </thead>\n",
       "  <tbody>\n",
       "  </tbody>\n",
       "</table>\n",
       "</div>"
      ],
      "text/plain": [
       "Empty DataFrame\n",
       "Columns: [visits_pre, visits_post, delta, %delta]\n",
       "Index: []"
      ]
     },
     "execution_count": 11,
     "metadata": {},
     "output_type": "execute_result"
    }
   ],
   "source": [
    "comp.get_lost_dimensions(\"visits\")"
   ]
  },
  {
   "cell_type": "markdown",
   "metadata": {},
   "source": [
    "# Distribution"
   ]
  },
  {
   "cell_type": "code",
   "execution_count": 5,
   "metadata": {},
   "outputs": [
    {
     "data": {
      "application/vnd.plotly.v1+json": {
       "config": {
        "plotlyServerURL": "https://plot.ly"
       },
       "data": [
        {
         "alignmentgroup": "True",
         "bingroup": "x",
         "hovertemplate": "variable=visits_pre<br>value=%{x}<br>count=%{y}<extra></extra>",
         "legendgroup": "visits_pre",
         "marker": {
          "color": "gray",
          "opacity": 0.5,
          "pattern": {
           "shape": ""
          }
         },
         "name": "visits_pre",
         "offsetgroup": "visits_pre",
         "orientation": "v",
         "showlegend": true,
         "type": "histogram",
         "x": [
          10,
          1,
          20,
          4,
          1,
          3,
          4,
          21,
          32,
          1,
          4,
          1,
          8,
          1,
          1,
          8,
          2,
          67,
          179,
          1,
          1,
          1,
          1,
          1,
          2,
          2,
          1,
          1,
          12,
          1,
          1,
          1,
          58,
          1,
          1,
          2,
          3,
          1,
          1,
          1,
          1,
          49,
          1,
          1,
          1,
          1,
          3,
          3,
          4,
          16,
          5,
          1,
          2,
          6,
          14,
          3,
          4,
          2,
          1,
          2,
          4,
          1,
          1,
          1,
          1,
          2,
          1,
          7,
          2,
          1,
          1,
          1,
          1,
          1,
          1,
          1,
          1,
          5,
          5,
          7,
          1,
          1,
          523,
          2,
          320,
          2,
          23,
          1,
          1,
          9,
          2,
          1200
         ],
         "xaxis": "x",
         "yaxis": "y"
        },
        {
         "alignmentgroup": "True",
         "hovertemplate": "variable=visits_pre<br>value=%{x}<extra></extra>",
         "legendgroup": "visits_pre",
         "marker": {
          "color": "gray"
         },
         "name": "visits_pre",
         "notched": true,
         "offsetgroup": "visits_pre",
         "showlegend": false,
         "type": "box",
         "x": [
          10,
          1,
          20,
          4,
          1,
          3,
          4,
          21,
          32,
          1,
          4,
          1,
          8,
          1,
          1,
          8,
          2,
          67,
          179,
          1,
          1,
          1,
          1,
          1,
          2,
          2,
          1,
          1,
          12,
          1,
          1,
          1,
          58,
          1,
          1,
          2,
          3,
          1,
          1,
          1,
          1,
          49,
          1,
          1,
          1,
          1,
          3,
          3,
          4,
          16,
          5,
          1,
          2,
          6,
          14,
          3,
          4,
          2,
          1,
          2,
          4,
          1,
          1,
          1,
          1,
          2,
          1,
          7,
          2,
          1,
          1,
          1,
          1,
          1,
          1,
          1,
          1,
          5,
          5,
          7,
          1,
          1,
          523,
          2,
          320,
          2,
          23,
          1,
          1,
          9,
          2,
          1200
         ],
         "xaxis": "x2",
         "yaxis": "y2"
        },
        {
         "alignmentgroup": "True",
         "bingroup": "x",
         "hovertemplate": "variable=visits_post<br>value=%{x}<br>count=%{y}<extra></extra>",
         "legendgroup": "visits_post",
         "marker": {
          "color": "blue",
          "opacity": 0.5,
          "pattern": {
           "shape": ""
          }
         },
         "name": "visits_post",
         "offsetgroup": "visits_post",
         "orientation": "v",
         "showlegend": true,
         "type": "histogram",
         "x": [
          42,
          1,
          116,
          52,
          14,
          4,
          43,
          144,
          210,
          2,
          19,
          32,
          39,
          1,
          5,
          42,
          18,
          419,
          1273,
          3,
          3,
          2,
          4,
          5,
          1,
          7,
          6,
          11,
          102,
          1,
          5,
          3,
          259,
          11,
          11,
          5,
          29,
          2,
          11,
          4,
          33,
          363,
          5,
          13,
          1,
          1,
          51,
          4,
          18,
          118,
          26,
          3,
          15,
          50,
          125,
          3,
          5,
          1,
          1,
          4,
          53,
          9,
          8,
          1,
          24,
          9,
          25,
          22,
          58,
          1,
          1,
          2,
          12,
          11,
          9,
          7,
          9,
          53,
          7,
          71,
          53,
          2,
          3487,
          6,
          2963,
          4,
          103,
          10,
          1,
          33,
          6,
          7554
         ],
         "xaxis": "x",
         "yaxis": "y"
        },
        {
         "alignmentgroup": "True",
         "hovertemplate": "variable=visits_post<br>value=%{x}<extra></extra>",
         "legendgroup": "visits_post",
         "marker": {
          "color": "blue"
         },
         "name": "visits_post",
         "notched": true,
         "offsetgroup": "visits_post",
         "showlegend": false,
         "type": "box",
         "x": [
          42,
          1,
          116,
          52,
          14,
          4,
          43,
          144,
          210,
          2,
          19,
          32,
          39,
          1,
          5,
          42,
          18,
          419,
          1273,
          3,
          3,
          2,
          4,
          5,
          1,
          7,
          6,
          11,
          102,
          1,
          5,
          3,
          259,
          11,
          11,
          5,
          29,
          2,
          11,
          4,
          33,
          363,
          5,
          13,
          1,
          1,
          51,
          4,
          18,
          118,
          26,
          3,
          15,
          50,
          125,
          3,
          5,
          1,
          1,
          4,
          53,
          9,
          8,
          1,
          24,
          9,
          25,
          22,
          58,
          1,
          1,
          2,
          12,
          11,
          9,
          7,
          9,
          53,
          7,
          71,
          53,
          2,
          3487,
          6,
          2963,
          4,
          103,
          10,
          1,
          33,
          6,
          7554
         ],
         "xaxis": "x2",
         "yaxis": "y2"
        }
       ],
       "layout": {
        "barmode": "overlay",
        "legend": {
         "title": {
          "text": "variable"
         },
         "tracegroupgap": 0
        },
        "margin": {
         "t": 60
        },
        "template": {
         "data": {
          "bar": [
           {
            "error_x": {
             "color": "#2a3f5f"
            },
            "error_y": {
             "color": "#2a3f5f"
            },
            "marker": {
             "line": {
              "color": "#E5ECF6",
              "width": 0.5
             },
             "pattern": {
              "fillmode": "overlay",
              "size": 10,
              "solidity": 0.2
             }
            },
            "type": "bar"
           }
          ],
          "barpolar": [
           {
            "marker": {
             "line": {
              "color": "#E5ECF6",
              "width": 0.5
             },
             "pattern": {
              "fillmode": "overlay",
              "size": 10,
              "solidity": 0.2
             }
            },
            "type": "barpolar"
           }
          ],
          "carpet": [
           {
            "aaxis": {
             "endlinecolor": "#2a3f5f",
             "gridcolor": "white",
             "linecolor": "white",
             "minorgridcolor": "white",
             "startlinecolor": "#2a3f5f"
            },
            "baxis": {
             "endlinecolor": "#2a3f5f",
             "gridcolor": "white",
             "linecolor": "white",
             "minorgridcolor": "white",
             "startlinecolor": "#2a3f5f"
            },
            "type": "carpet"
           }
          ],
          "choropleth": [
           {
            "colorbar": {
             "outlinewidth": 0,
             "ticks": ""
            },
            "type": "choropleth"
           }
          ],
          "contour": [
           {
            "colorbar": {
             "outlinewidth": 0,
             "ticks": ""
            },
            "colorscale": [
             [
              0,
              "#0d0887"
             ],
             [
              0.1111111111111111,
              "#46039f"
             ],
             [
              0.2222222222222222,
              "#7201a8"
             ],
             [
              0.3333333333333333,
              "#9c179e"
             ],
             [
              0.4444444444444444,
              "#bd3786"
             ],
             [
              0.5555555555555556,
              "#d8576b"
             ],
             [
              0.6666666666666666,
              "#ed7953"
             ],
             [
              0.7777777777777778,
              "#fb9f3a"
             ],
             [
              0.8888888888888888,
              "#fdca26"
             ],
             [
              1,
              "#f0f921"
             ]
            ],
            "type": "contour"
           }
          ],
          "contourcarpet": [
           {
            "colorbar": {
             "outlinewidth": 0,
             "ticks": ""
            },
            "type": "contourcarpet"
           }
          ],
          "heatmap": [
           {
            "colorbar": {
             "outlinewidth": 0,
             "ticks": ""
            },
            "colorscale": [
             [
              0,
              "#0d0887"
             ],
             [
              0.1111111111111111,
              "#46039f"
             ],
             [
              0.2222222222222222,
              "#7201a8"
             ],
             [
              0.3333333333333333,
              "#9c179e"
             ],
             [
              0.4444444444444444,
              "#bd3786"
             ],
             [
              0.5555555555555556,
              "#d8576b"
             ],
             [
              0.6666666666666666,
              "#ed7953"
             ],
             [
              0.7777777777777778,
              "#fb9f3a"
             ],
             [
              0.8888888888888888,
              "#fdca26"
             ],
             [
              1,
              "#f0f921"
             ]
            ],
            "type": "heatmap"
           }
          ],
          "heatmapgl": [
           {
            "colorbar": {
             "outlinewidth": 0,
             "ticks": ""
            },
            "colorscale": [
             [
              0,
              "#0d0887"
             ],
             [
              0.1111111111111111,
              "#46039f"
             ],
             [
              0.2222222222222222,
              "#7201a8"
             ],
             [
              0.3333333333333333,
              "#9c179e"
             ],
             [
              0.4444444444444444,
              "#bd3786"
             ],
             [
              0.5555555555555556,
              "#d8576b"
             ],
             [
              0.6666666666666666,
              "#ed7953"
             ],
             [
              0.7777777777777778,
              "#fb9f3a"
             ],
             [
              0.8888888888888888,
              "#fdca26"
             ],
             [
              1,
              "#f0f921"
             ]
            ],
            "type": "heatmapgl"
           }
          ],
          "histogram": [
           {
            "marker": {
             "pattern": {
              "fillmode": "overlay",
              "size": 10,
              "solidity": 0.2
             }
            },
            "type": "histogram"
           }
          ],
          "histogram2d": [
           {
            "colorbar": {
             "outlinewidth": 0,
             "ticks": ""
            },
            "colorscale": [
             [
              0,
              "#0d0887"
             ],
             [
              0.1111111111111111,
              "#46039f"
             ],
             [
              0.2222222222222222,
              "#7201a8"
             ],
             [
              0.3333333333333333,
              "#9c179e"
             ],
             [
              0.4444444444444444,
              "#bd3786"
             ],
             [
              0.5555555555555556,
              "#d8576b"
             ],
             [
              0.6666666666666666,
              "#ed7953"
             ],
             [
              0.7777777777777778,
              "#fb9f3a"
             ],
             [
              0.8888888888888888,
              "#fdca26"
             ],
             [
              1,
              "#f0f921"
             ]
            ],
            "type": "histogram2d"
           }
          ],
          "histogram2dcontour": [
           {
            "colorbar": {
             "outlinewidth": 0,
             "ticks": ""
            },
            "colorscale": [
             [
              0,
              "#0d0887"
             ],
             [
              0.1111111111111111,
              "#46039f"
             ],
             [
              0.2222222222222222,
              "#7201a8"
             ],
             [
              0.3333333333333333,
              "#9c179e"
             ],
             [
              0.4444444444444444,
              "#bd3786"
             ],
             [
              0.5555555555555556,
              "#d8576b"
             ],
             [
              0.6666666666666666,
              "#ed7953"
             ],
             [
              0.7777777777777778,
              "#fb9f3a"
             ],
             [
              0.8888888888888888,
              "#fdca26"
             ],
             [
              1,
              "#f0f921"
             ]
            ],
            "type": "histogram2dcontour"
           }
          ],
          "mesh3d": [
           {
            "colorbar": {
             "outlinewidth": 0,
             "ticks": ""
            },
            "type": "mesh3d"
           }
          ],
          "parcoords": [
           {
            "line": {
             "colorbar": {
              "outlinewidth": 0,
              "ticks": ""
             }
            },
            "type": "parcoords"
           }
          ],
          "pie": [
           {
            "automargin": true,
            "type": "pie"
           }
          ],
          "scatter": [
           {
            "fillpattern": {
             "fillmode": "overlay",
             "size": 10,
             "solidity": 0.2
            },
            "type": "scatter"
           }
          ],
          "scatter3d": [
           {
            "line": {
             "colorbar": {
              "outlinewidth": 0,
              "ticks": ""
             }
            },
            "marker": {
             "colorbar": {
              "outlinewidth": 0,
              "ticks": ""
             }
            },
            "type": "scatter3d"
           }
          ],
          "scattercarpet": [
           {
            "marker": {
             "colorbar": {
              "outlinewidth": 0,
              "ticks": ""
             }
            },
            "type": "scattercarpet"
           }
          ],
          "scattergeo": [
           {
            "marker": {
             "colorbar": {
              "outlinewidth": 0,
              "ticks": ""
             }
            },
            "type": "scattergeo"
           }
          ],
          "scattergl": [
           {
            "marker": {
             "colorbar": {
              "outlinewidth": 0,
              "ticks": ""
             }
            },
            "type": "scattergl"
           }
          ],
          "scattermapbox": [
           {
            "marker": {
             "colorbar": {
              "outlinewidth": 0,
              "ticks": ""
             }
            },
            "type": "scattermapbox"
           }
          ],
          "scatterpolar": [
           {
            "marker": {
             "colorbar": {
              "outlinewidth": 0,
              "ticks": ""
             }
            },
            "type": "scatterpolar"
           }
          ],
          "scatterpolargl": [
           {
            "marker": {
             "colorbar": {
              "outlinewidth": 0,
              "ticks": ""
             }
            },
            "type": "scatterpolargl"
           }
          ],
          "scatterternary": [
           {
            "marker": {
             "colorbar": {
              "outlinewidth": 0,
              "ticks": ""
             }
            },
            "type": "scatterternary"
           }
          ],
          "surface": [
           {
            "colorbar": {
             "outlinewidth": 0,
             "ticks": ""
            },
            "colorscale": [
             [
              0,
              "#0d0887"
             ],
             [
              0.1111111111111111,
              "#46039f"
             ],
             [
              0.2222222222222222,
              "#7201a8"
             ],
             [
              0.3333333333333333,
              "#9c179e"
             ],
             [
              0.4444444444444444,
              "#bd3786"
             ],
             [
              0.5555555555555556,
              "#d8576b"
             ],
             [
              0.6666666666666666,
              "#ed7953"
             ],
             [
              0.7777777777777778,
              "#fb9f3a"
             ],
             [
              0.8888888888888888,
              "#fdca26"
             ],
             [
              1,
              "#f0f921"
             ]
            ],
            "type": "surface"
           }
          ],
          "table": [
           {
            "cells": {
             "fill": {
              "color": "#EBF0F8"
             },
             "line": {
              "color": "white"
             }
            },
            "header": {
             "fill": {
              "color": "#C8D4E3"
             },
             "line": {
              "color": "white"
             }
            },
            "type": "table"
           }
          ]
         },
         "layout": {
          "annotationdefaults": {
           "arrowcolor": "#2a3f5f",
           "arrowhead": 0,
           "arrowwidth": 1
          },
          "autotypenumbers": "strict",
          "coloraxis": {
           "colorbar": {
            "outlinewidth": 0,
            "ticks": ""
           }
          },
          "colorscale": {
           "diverging": [
            [
             0,
             "#8e0152"
            ],
            [
             0.1,
             "#c51b7d"
            ],
            [
             0.2,
             "#de77ae"
            ],
            [
             0.3,
             "#f1b6da"
            ],
            [
             0.4,
             "#fde0ef"
            ],
            [
             0.5,
             "#f7f7f7"
            ],
            [
             0.6,
             "#e6f5d0"
            ],
            [
             0.7,
             "#b8e186"
            ],
            [
             0.8,
             "#7fbc41"
            ],
            [
             0.9,
             "#4d9221"
            ],
            [
             1,
             "#276419"
            ]
           ],
           "sequential": [
            [
             0,
             "#0d0887"
            ],
            [
             0.1111111111111111,
             "#46039f"
            ],
            [
             0.2222222222222222,
             "#7201a8"
            ],
            [
             0.3333333333333333,
             "#9c179e"
            ],
            [
             0.4444444444444444,
             "#bd3786"
            ],
            [
             0.5555555555555556,
             "#d8576b"
            ],
            [
             0.6666666666666666,
             "#ed7953"
            ],
            [
             0.7777777777777778,
             "#fb9f3a"
            ],
            [
             0.8888888888888888,
             "#fdca26"
            ],
            [
             1,
             "#f0f921"
            ]
           ],
           "sequentialminus": [
            [
             0,
             "#0d0887"
            ],
            [
             0.1111111111111111,
             "#46039f"
            ],
            [
             0.2222222222222222,
             "#7201a8"
            ],
            [
             0.3333333333333333,
             "#9c179e"
            ],
            [
             0.4444444444444444,
             "#bd3786"
            ],
            [
             0.5555555555555556,
             "#d8576b"
            ],
            [
             0.6666666666666666,
             "#ed7953"
            ],
            [
             0.7777777777777778,
             "#fb9f3a"
            ],
            [
             0.8888888888888888,
             "#fdca26"
            ],
            [
             1,
             "#f0f921"
            ]
           ]
          },
          "colorway": [
           "#636efa",
           "#EF553B",
           "#00cc96",
           "#ab63fa",
           "#FFA15A",
           "#19d3f3",
           "#FF6692",
           "#B6E880",
           "#FF97FF",
           "#FECB52"
          ],
          "font": {
           "color": "#2a3f5f"
          },
          "geo": {
           "bgcolor": "white",
           "lakecolor": "white",
           "landcolor": "#E5ECF6",
           "showlakes": true,
           "showland": true,
           "subunitcolor": "white"
          },
          "hoverlabel": {
           "align": "left"
          },
          "hovermode": "closest",
          "mapbox": {
           "style": "light"
          },
          "paper_bgcolor": "white",
          "plot_bgcolor": "#E5ECF6",
          "polar": {
           "angularaxis": {
            "gridcolor": "white",
            "linecolor": "white",
            "ticks": ""
           },
           "bgcolor": "#E5ECF6",
           "radialaxis": {
            "gridcolor": "white",
            "linecolor": "white",
            "ticks": ""
           }
          },
          "scene": {
           "xaxis": {
            "backgroundcolor": "#E5ECF6",
            "gridcolor": "white",
            "gridwidth": 2,
            "linecolor": "white",
            "showbackground": true,
            "ticks": "",
            "zerolinecolor": "white"
           },
           "yaxis": {
            "backgroundcolor": "#E5ECF6",
            "gridcolor": "white",
            "gridwidth": 2,
            "linecolor": "white",
            "showbackground": true,
            "ticks": "",
            "zerolinecolor": "white"
           },
           "zaxis": {
            "backgroundcolor": "#E5ECF6",
            "gridcolor": "white",
            "gridwidth": 2,
            "linecolor": "white",
            "showbackground": true,
            "ticks": "",
            "zerolinecolor": "white"
           }
          },
          "shapedefaults": {
           "line": {
            "color": "#2a3f5f"
           }
          },
          "ternary": {
           "aaxis": {
            "gridcolor": "white",
            "linecolor": "white",
            "ticks": ""
           },
           "baxis": {
            "gridcolor": "white",
            "linecolor": "white",
            "ticks": ""
           },
           "bgcolor": "#E5ECF6",
           "caxis": {
            "gridcolor": "white",
            "linecolor": "white",
            "ticks": ""
           }
          },
          "title": {
           "x": 0.05
          },
          "xaxis": {
           "automargin": true,
           "gridcolor": "white",
           "linecolor": "white",
           "ticks": "",
           "title": {
            "standoff": 15
           },
           "zerolinecolor": "white",
           "zerolinewidth": 2
          },
          "yaxis": {
           "automargin": true,
           "gridcolor": "white",
           "linecolor": "white",
           "ticks": "",
           "title": {
            "standoff": 15
           },
           "zerolinecolor": "white",
           "zerolinewidth": 2
          }
         }
        },
        "title": {
         "text": "Distribution of Visits (Pre and Post)"
        },
        "xaxis": {
         "anchor": "y",
         "domain": [
          0,
          1
         ],
         "title": {
          "text": "value"
         }
        },
        "xaxis2": {
         "anchor": "y2",
         "domain": [
          0,
          1
         ],
         "matches": "x",
         "showgrid": true,
         "showticklabels": false
        },
        "yaxis": {
         "anchor": "x",
         "domain": [
          0,
          0.7326
         ],
         "title": {
          "text": "count"
         }
        },
        "yaxis2": {
         "anchor": "x2",
         "domain": [
          0.7426,
          1
         ],
         "matches": "y2",
         "showgrid": false,
         "showline": false,
         "showticklabels": false,
         "ticks": ""
        }
       }
      }
     },
     "metadata": {},
     "output_type": "display_data"
    }
   ],
   "source": [
    "comp.get_distribution_pre_post(metric=\"visits\")"
   ]
  },
  {
   "cell_type": "markdown",
   "metadata": {},
   "source": [
    "# Outliers"
   ]
  },
  {
   "cell_type": "code",
   "execution_count": 8,
   "metadata": {},
   "outputs": [
    {
     "data": {
      "application/vnd.plotly.v1+json": {
       "config": {
        "plotlyServerURL": "https://plot.ly"
       },
       "data": [
        {
         "hovertemplate": "entry_page=%{x}<br>Data=%{y}<extra></extra>",
         "legendgroup": "",
         "marker": {
          "color": "blue",
          "opacity": 0.5,
          "size": 5,
          "symbol": "circle"
         },
         "mode": "markers",
         "name": "",
         "orientation": "v",
         "showlegend": false,
         "type": "scatter",
         "x": [
          "shop.googlemerchandisestore.com/asearch.html",
          "shop.googlemerchandisestore.com/asearch.html/quickview",
          "shop.googlemerchandisestore.com/basket.html",
          "shop.googlemerchandisestore.com/google+redesign/accessories",
          "shop.googlemerchandisestore.com/google+redesign/accessories/fun",
          "shop.googlemerchandisestore.com/google+redesign/accessories/pet",
          "shop.googlemerchandisestore.com/google+redesign/accessories/stickers/home",
          "shop.googlemerchandisestore.com/google+redesign/apparel",
          "shop.googlemerchandisestore.com/google+redesign/apparel/headgear",
          "shop.googlemerchandisestore.com/google+redesign/apparel/headgear/youtube+wool+heather+cap+heather+black.axd",
          "shop.googlemerchandisestore.com/google+redesign/apparel/kid+s/kid+s+infant",
          "shop.googlemerchandisestore.com/google+redesign/apparel/kid+s/kid+s+toddler",
          "shop.googlemerchandisestore.com/google+redesign/apparel/kid+s/kid+s+youth",
          "shop.googlemerchandisestore.com/google+redesign/apparel/kids/kids+infant/google+zip+hood+pink.axd",
          "shop.googlemerchandisestore.com/google+redesign/apparel/kids/kids+infant/youtube+onesie+heather.axd",
          "shop.googlemerchandisestore.com/google+redesign/apparel/men++s",
          "shop.googlemerchandisestore.com/google+redesign/apparel/men++s/men++s+bike+gear",
          "shop.googlemerchandisestore.com/google+redesign/apparel/men++s/men++s+outerwear",
          "shop.googlemerchandisestore.com/google+redesign/apparel/men++s/men++s+t+shirts",
          "shop.googlemerchandisestore.com/google+redesign/apparel/men++s/men++s+t+shirts/quickview",
          "shop.googlemerchandisestore.com/google+redesign/apparel/men+s+google+convertible+jacket+vest+pewter.axd",
          "shop.googlemerchandisestore.com/google+redesign/apparel/men+s+t+shirts/google+mens+long+sleeve+raglan+ocean+blue.axd",
          "shop.googlemerchandisestore.com/google+redesign/apparel/men+s+t+shirts/google+mens+short+sleeve+hero+tee+white.axd",
          "shop.googlemerchandisestore.com/google+redesign/apparel/men+s+t+shirts/youtube+mens+fleece+hoodie+black.axd",
          "shop.googlemerchandisestore.com/google+redesign/apparel/men+s+t+shirts/youtube+mens+s+s+hero+tee.axd",
          "shop.googlemerchandisestore.com/google+redesign/apparel/men+s+t+shirts/youtube+womens+fleece+hoodie+black.axd",
          "shop.googlemerchandisestore.com/google+redesign/apparel/mens/mens+performance+wear",
          "shop.googlemerchandisestore.com/google+redesign/apparel/women+s/women+s+outerwear",
          "shop.googlemerchandisestore.com/google+redesign/apparel/women+s/women+s+t+shirts",
          "shop.googlemerchandisestore.com/google+redesign/apparel/women+s/women+s+t+shirts/google+womens+short+sleeve+hero+tee.axd",
          "shop.googlemerchandisestore.com/google+redesign/apparel/womens+outerwear/google+womens+fleece+hoodie.axd",
          "shop.googlemerchandisestore.com/google+redesign/apparel/womens+performance+wear",
          "shop.googlemerchandisestore.com/google+redesign/bags",
          "shop.googlemerchandisestore.com/google+redesign/bags/backpacks/google+alpine+style+backpack.axd",
          "shop.googlemerchandisestore.com/google+redesign/bags/backpacks/google+laptop+backpack.axd",
          "shop.googlemerchandisestore.com/google+redesign/bags/backpacks/waterproof+backpack.axd",
          "shop.googlemerchandisestore.com/google+redesign/bags/more+bags",
          "shop.googlemerchandisestore.com/google+redesign/bags/quickview",
          "shop.googlemerchandisestore.com/google+redesign/bags/shopping+and+totes",
          "shop.googlemerchandisestore.com/google+redesign/bags/totes/google+tote+bag.axd",
          "shop.googlemerchandisestore.com/google+redesign/bags/water+bottles+and+tumblers",
          "shop.googlemerchandisestore.com/google+redesign/drinkware",
          "shop.googlemerchandisestore.com/google+redesign/drinkware/bottles/22+oz+youtube+bottle+infuser+black.axd",
          "shop.googlemerchandisestore.com/google+redesign/drinkware/bottles/google+22+oz+water+bottle.axd",
          "shop.googlemerchandisestore.com/google+redesign/drinkware/bottles/google+accent+insulated+stainless+steel+bottle.axd",
          "shop.googlemerchandisestore.com/google+redesign/drinkware/bottles/google+insulated+stainless+steel+bottle.axd",
          "shop.googlemerchandisestore.com/google+redesign/drinkware/mugs+and+cups",
          "shop.googlemerchandisestore.com/google+redesign/drinkware/mugs/android+4oz+rise+mug.axd",
          "shop.googlemerchandisestore.com/google+redesign/electronic/accessories/recycled+mouse+pad.axd",
          "shop.googlemerchandisestore.com/google+redesign/electronics",
          "shop.googlemerchandisestore.com/google+redesign/electronics/accessories/google+electronics+accessory+pouch.axd",
          "shop.googlemerchandisestore.com/google+redesign/electronics/accessories/keyboard+dot+sticker.axd",
          "shop.googlemerchandisestore.com/google+redesign/electronics/audio",
          "shop.googlemerchandisestore.com/google+redesign/electronics/audio/google+bluetooth+headphones.axd",
          "shop.googlemerchandisestore.com/google+redesign/electronics/audio/google+g+noise+reducing+bluetooth+headphones.axd",
          "shop.googlemerchandisestore.com/google+redesign/electronics/audio/micro+wireless+earbud.axd",
          "shop.googlemerchandisestore.com/google+redesign/electronics/electronics+accessories",
          "shop.googlemerchandisestore.com/google+redesign/electronics/flashlights",
          "shop.googlemerchandisestore.com/google+redesign/electronics/google+pocket+bluetooth+speaker.axd",
          "shop.googlemerchandisestore.com/google+redesign/electronics/power",
          "shop.googlemerchandisestore.com/google+redesign/electronics/power/google+power+bank+black.axd",
          "shop.googlemerchandisestore.com/google+redesign/electronics/power/google+tube+power+bank.axd",
          "shop.googlemerchandisestore.com/google+redesign/gift+cards",
          "shop.googlemerchandisestore.com/google+redesign/lifestyle",
          "shop.googlemerchandisestore.com/google+redesign/lifestyle/fun/malibu+sunglasses.axd",
          "shop.googlemerchandisestore.com/google+redesign/lifestyle/fun/windup+android.axd",
          "shop.googlemerchandisestore.com/google+redesign/nest/nest+usa/nest+learning+thermostat+3rd+gen+usa+stainless+steel.axd",
          "shop.googlemerchandisestore.com/google+redesign/office",
          "shop.googlemerchandisestore.com/google+redesign/office/notebooks++journals",
          "shop.googlemerchandisestore.com/google+redesign/office/notebooks+journals/google+metallic+notebook+set.axd",
          "shop.googlemerchandisestore.com/google+redesign/office/notebooks+journals/red+spiral+google+notebook.axd",
          "shop.googlemerchandisestore.com/google+redesign/office/stickers/google+doodle+decal.axd",
          "shop.googlemerchandisestore.com/google+redesign/office/stickers/google+laptop+and+cell+phone+stickers.axd",
          "shop.googlemerchandisestore.com/google+redesign/office/stickers/youtube+custom+decals.axd",
          "shop.googlemerchandisestore.com/google+redesign/office/writing+instruments",
          "shop.googlemerchandisestore.com/google+redesign/office/writing/google+stylus+pen+w+led+light.axd",
          "shop.googlemerchandisestore.com/google+redesign/office/writing/maze+pen.axd",
          "shop.googlemerchandisestore.com/google+redesign/office/writing/pen+pencil+highlighter+set.axd",
          "shop.googlemerchandisestore.com/google+redesign/shop+by+brand",
          "shop.googlemerchandisestore.com/google+redesign/shop+by+brand/android",
          "shop.googlemerchandisestore.com/google+redesign/shop+by+brand/google",
          "shop.googlemerchandisestore.com/google+redesign/shop+by+brand/waze+baby+on+board+window+decal.axd",
          "shop.googlemerchandisestore.com/google+redesign/shop+by+brand/youtube",
          "shop.googlemerchandisestore.com/google+redesign/shop+by+brand/youtube/quickview",
          "shop.googlemerchandisestore.com/home",
          "shop.googlemerchandisestore.com/register.html",
          "shop.googlemerchandisestore.com/signin.html",
          "shop.googlemerchandisestore.com/store-policies/frequently-asked-questions/home",
          "shop.googlemerchandisestore.com/store-policies/return-policy/home",
          "shop.googlemerchandisestore.com/store.html",
          "shop.googlemerchandisestore.com/storeitem.html",
          "www.googlemerchandisestore.com/home"
         ],
         "xaxis": "x",
         "y": [
          32,
          0,
          96,
          48,
          13,
          1,
          39,
          123,
          178,
          1,
          15,
          31,
          31,
          0,
          4,
          34,
          16,
          352,
          1094,
          2,
          2,
          1,
          3,
          4,
          -1,
          5,
          5,
          10,
          90,
          0,
          4,
          2,
          201,
          10,
          10,
          3,
          26,
          1,
          10,
          3,
          32,
          314,
          4,
          12,
          0,
          0,
          48,
          1,
          14,
          102,
          21,
          2,
          13,
          44,
          111,
          0,
          1,
          -1,
          0,
          2,
          49,
          8,
          7,
          0,
          23,
          7,
          24,
          15,
          56,
          0,
          0,
          1,
          11,
          10,
          8,
          6,
          8,
          48,
          2,
          64,
          52,
          1,
          2964,
          4,
          2643,
          2,
          80,
          9,
          0,
          24,
          4,
          6354
         ],
         "yaxis": "y"
        },
        {
         "hovertemplate": "entry_page=%{x}<br>Outliers=%{y}<extra></extra>",
         "legendgroup": "",
         "marker": {
          "color": "red",
          "size": 5,
          "symbol": "circle"
         },
         "mode": "markers",
         "name": "",
         "orientation": "v",
         "showlegend": false,
         "type": "scatter",
         "x": [
          "shop.googlemerchandisestore.com/google+redesign/shop+by+brand/youtube",
          "shop.googlemerchandisestore.com/home",
          "www.googlemerchandisestore.com/home"
         ],
         "xaxis": "x",
         "y": [
          2964,
          2643,
          6354
         ],
         "yaxis": "y"
        }
       ],
       "layout": {
        "legend": {
         "tracegroupgap": 0
        },
        "template": {
         "data": {
          "bar": [
           {
            "error_x": {
             "color": "#2a3f5f"
            },
            "error_y": {
             "color": "#2a3f5f"
            },
            "marker": {
             "line": {
              "color": "#E5ECF6",
              "width": 0.5
             },
             "pattern": {
              "fillmode": "overlay",
              "size": 10,
              "solidity": 0.2
             }
            },
            "type": "bar"
           }
          ],
          "barpolar": [
           {
            "marker": {
             "line": {
              "color": "#E5ECF6",
              "width": 0.5
             },
             "pattern": {
              "fillmode": "overlay",
              "size": 10,
              "solidity": 0.2
             }
            },
            "type": "barpolar"
           }
          ],
          "carpet": [
           {
            "aaxis": {
             "endlinecolor": "#2a3f5f",
             "gridcolor": "white",
             "linecolor": "white",
             "minorgridcolor": "white",
             "startlinecolor": "#2a3f5f"
            },
            "baxis": {
             "endlinecolor": "#2a3f5f",
             "gridcolor": "white",
             "linecolor": "white",
             "minorgridcolor": "white",
             "startlinecolor": "#2a3f5f"
            },
            "type": "carpet"
           }
          ],
          "choropleth": [
           {
            "colorbar": {
             "outlinewidth": 0,
             "ticks": ""
            },
            "type": "choropleth"
           }
          ],
          "contour": [
           {
            "colorbar": {
             "outlinewidth": 0,
             "ticks": ""
            },
            "colorscale": [
             [
              0,
              "#0d0887"
             ],
             [
              0.1111111111111111,
              "#46039f"
             ],
             [
              0.2222222222222222,
              "#7201a8"
             ],
             [
              0.3333333333333333,
              "#9c179e"
             ],
             [
              0.4444444444444444,
              "#bd3786"
             ],
             [
              0.5555555555555556,
              "#d8576b"
             ],
             [
              0.6666666666666666,
              "#ed7953"
             ],
             [
              0.7777777777777778,
              "#fb9f3a"
             ],
             [
              0.8888888888888888,
              "#fdca26"
             ],
             [
              1,
              "#f0f921"
             ]
            ],
            "type": "contour"
           }
          ],
          "contourcarpet": [
           {
            "colorbar": {
             "outlinewidth": 0,
             "ticks": ""
            },
            "type": "contourcarpet"
           }
          ],
          "heatmap": [
           {
            "colorbar": {
             "outlinewidth": 0,
             "ticks": ""
            },
            "colorscale": [
             [
              0,
              "#0d0887"
             ],
             [
              0.1111111111111111,
              "#46039f"
             ],
             [
              0.2222222222222222,
              "#7201a8"
             ],
             [
              0.3333333333333333,
              "#9c179e"
             ],
             [
              0.4444444444444444,
              "#bd3786"
             ],
             [
              0.5555555555555556,
              "#d8576b"
             ],
             [
              0.6666666666666666,
              "#ed7953"
             ],
             [
              0.7777777777777778,
              "#fb9f3a"
             ],
             [
              0.8888888888888888,
              "#fdca26"
             ],
             [
              1,
              "#f0f921"
             ]
            ],
            "type": "heatmap"
           }
          ],
          "heatmapgl": [
           {
            "colorbar": {
             "outlinewidth": 0,
             "ticks": ""
            },
            "colorscale": [
             [
              0,
              "#0d0887"
             ],
             [
              0.1111111111111111,
              "#46039f"
             ],
             [
              0.2222222222222222,
              "#7201a8"
             ],
             [
              0.3333333333333333,
              "#9c179e"
             ],
             [
              0.4444444444444444,
              "#bd3786"
             ],
             [
              0.5555555555555556,
              "#d8576b"
             ],
             [
              0.6666666666666666,
              "#ed7953"
             ],
             [
              0.7777777777777778,
              "#fb9f3a"
             ],
             [
              0.8888888888888888,
              "#fdca26"
             ],
             [
              1,
              "#f0f921"
             ]
            ],
            "type": "heatmapgl"
           }
          ],
          "histogram": [
           {
            "marker": {
             "pattern": {
              "fillmode": "overlay",
              "size": 10,
              "solidity": 0.2
             }
            },
            "type": "histogram"
           }
          ],
          "histogram2d": [
           {
            "colorbar": {
             "outlinewidth": 0,
             "ticks": ""
            },
            "colorscale": [
             [
              0,
              "#0d0887"
             ],
             [
              0.1111111111111111,
              "#46039f"
             ],
             [
              0.2222222222222222,
              "#7201a8"
             ],
             [
              0.3333333333333333,
              "#9c179e"
             ],
             [
              0.4444444444444444,
              "#bd3786"
             ],
             [
              0.5555555555555556,
              "#d8576b"
             ],
             [
              0.6666666666666666,
              "#ed7953"
             ],
             [
              0.7777777777777778,
              "#fb9f3a"
             ],
             [
              0.8888888888888888,
              "#fdca26"
             ],
             [
              1,
              "#f0f921"
             ]
            ],
            "type": "histogram2d"
           }
          ],
          "histogram2dcontour": [
           {
            "colorbar": {
             "outlinewidth": 0,
             "ticks": ""
            },
            "colorscale": [
             [
              0,
              "#0d0887"
             ],
             [
              0.1111111111111111,
              "#46039f"
             ],
             [
              0.2222222222222222,
              "#7201a8"
             ],
             [
              0.3333333333333333,
              "#9c179e"
             ],
             [
              0.4444444444444444,
              "#bd3786"
             ],
             [
              0.5555555555555556,
              "#d8576b"
             ],
             [
              0.6666666666666666,
              "#ed7953"
             ],
             [
              0.7777777777777778,
              "#fb9f3a"
             ],
             [
              0.8888888888888888,
              "#fdca26"
             ],
             [
              1,
              "#f0f921"
             ]
            ],
            "type": "histogram2dcontour"
           }
          ],
          "mesh3d": [
           {
            "colorbar": {
             "outlinewidth": 0,
             "ticks": ""
            },
            "type": "mesh3d"
           }
          ],
          "parcoords": [
           {
            "line": {
             "colorbar": {
              "outlinewidth": 0,
              "ticks": ""
             }
            },
            "type": "parcoords"
           }
          ],
          "pie": [
           {
            "automargin": true,
            "type": "pie"
           }
          ],
          "scatter": [
           {
            "fillpattern": {
             "fillmode": "overlay",
             "size": 10,
             "solidity": 0.2
            },
            "type": "scatter"
           }
          ],
          "scatter3d": [
           {
            "line": {
             "colorbar": {
              "outlinewidth": 0,
              "ticks": ""
             }
            },
            "marker": {
             "colorbar": {
              "outlinewidth": 0,
              "ticks": ""
             }
            },
            "type": "scatter3d"
           }
          ],
          "scattercarpet": [
           {
            "marker": {
             "colorbar": {
              "outlinewidth": 0,
              "ticks": ""
             }
            },
            "type": "scattercarpet"
           }
          ],
          "scattergeo": [
           {
            "marker": {
             "colorbar": {
              "outlinewidth": 0,
              "ticks": ""
             }
            },
            "type": "scattergeo"
           }
          ],
          "scattergl": [
           {
            "marker": {
             "colorbar": {
              "outlinewidth": 0,
              "ticks": ""
             }
            },
            "type": "scattergl"
           }
          ],
          "scattermapbox": [
           {
            "marker": {
             "colorbar": {
              "outlinewidth": 0,
              "ticks": ""
             }
            },
            "type": "scattermapbox"
           }
          ],
          "scatterpolar": [
           {
            "marker": {
             "colorbar": {
              "outlinewidth": 0,
              "ticks": ""
             }
            },
            "type": "scatterpolar"
           }
          ],
          "scatterpolargl": [
           {
            "marker": {
             "colorbar": {
              "outlinewidth": 0,
              "ticks": ""
             }
            },
            "type": "scatterpolargl"
           }
          ],
          "scatterternary": [
           {
            "marker": {
             "colorbar": {
              "outlinewidth": 0,
              "ticks": ""
             }
            },
            "type": "scatterternary"
           }
          ],
          "surface": [
           {
            "colorbar": {
             "outlinewidth": 0,
             "ticks": ""
            },
            "colorscale": [
             [
              0,
              "#0d0887"
             ],
             [
              0.1111111111111111,
              "#46039f"
             ],
             [
              0.2222222222222222,
              "#7201a8"
             ],
             [
              0.3333333333333333,
              "#9c179e"
             ],
             [
              0.4444444444444444,
              "#bd3786"
             ],
             [
              0.5555555555555556,
              "#d8576b"
             ],
             [
              0.6666666666666666,
              "#ed7953"
             ],
             [
              0.7777777777777778,
              "#fb9f3a"
             ],
             [
              0.8888888888888888,
              "#fdca26"
             ],
             [
              1,
              "#f0f921"
             ]
            ],
            "type": "surface"
           }
          ],
          "table": [
           {
            "cells": {
             "fill": {
              "color": "#EBF0F8"
             },
             "line": {
              "color": "white"
             }
            },
            "header": {
             "fill": {
              "color": "#C8D4E3"
             },
             "line": {
              "color": "white"
             }
            },
            "type": "table"
           }
          ]
         },
         "layout": {
          "annotationdefaults": {
           "arrowcolor": "#2a3f5f",
           "arrowhead": 0,
           "arrowwidth": 1
          },
          "autotypenumbers": "strict",
          "coloraxis": {
           "colorbar": {
            "outlinewidth": 0,
            "ticks": ""
           }
          },
          "colorscale": {
           "diverging": [
            [
             0,
             "#8e0152"
            ],
            [
             0.1,
             "#c51b7d"
            ],
            [
             0.2,
             "#de77ae"
            ],
            [
             0.3,
             "#f1b6da"
            ],
            [
             0.4,
             "#fde0ef"
            ],
            [
             0.5,
             "#f7f7f7"
            ],
            [
             0.6,
             "#e6f5d0"
            ],
            [
             0.7,
             "#b8e186"
            ],
            [
             0.8,
             "#7fbc41"
            ],
            [
             0.9,
             "#4d9221"
            ],
            [
             1,
             "#276419"
            ]
           ],
           "sequential": [
            [
             0,
             "#0d0887"
            ],
            [
             0.1111111111111111,
             "#46039f"
            ],
            [
             0.2222222222222222,
             "#7201a8"
            ],
            [
             0.3333333333333333,
             "#9c179e"
            ],
            [
             0.4444444444444444,
             "#bd3786"
            ],
            [
             0.5555555555555556,
             "#d8576b"
            ],
            [
             0.6666666666666666,
             "#ed7953"
            ],
            [
             0.7777777777777778,
             "#fb9f3a"
            ],
            [
             0.8888888888888888,
             "#fdca26"
            ],
            [
             1,
             "#f0f921"
            ]
           ],
           "sequentialminus": [
            [
             0,
             "#0d0887"
            ],
            [
             0.1111111111111111,
             "#46039f"
            ],
            [
             0.2222222222222222,
             "#7201a8"
            ],
            [
             0.3333333333333333,
             "#9c179e"
            ],
            [
             0.4444444444444444,
             "#bd3786"
            ],
            [
             0.5555555555555556,
             "#d8576b"
            ],
            [
             0.6666666666666666,
             "#ed7953"
            ],
            [
             0.7777777777777778,
             "#fb9f3a"
            ],
            [
             0.8888888888888888,
             "#fdca26"
            ],
            [
             1,
             "#f0f921"
            ]
           ]
          },
          "colorway": [
           "#636efa",
           "#EF553B",
           "#00cc96",
           "#ab63fa",
           "#FFA15A",
           "#19d3f3",
           "#FF6692",
           "#B6E880",
           "#FF97FF",
           "#FECB52"
          ],
          "font": {
           "color": "#2a3f5f"
          },
          "geo": {
           "bgcolor": "white",
           "lakecolor": "white",
           "landcolor": "#E5ECF6",
           "showlakes": true,
           "showland": true,
           "subunitcolor": "white"
          },
          "hoverlabel": {
           "align": "left"
          },
          "hovermode": "closest",
          "mapbox": {
           "style": "light"
          },
          "paper_bgcolor": "white",
          "plot_bgcolor": "#E5ECF6",
          "polar": {
           "angularaxis": {
            "gridcolor": "white",
            "linecolor": "white",
            "ticks": ""
           },
           "bgcolor": "#E5ECF6",
           "radialaxis": {
            "gridcolor": "white",
            "linecolor": "white",
            "ticks": ""
           }
          },
          "scene": {
           "xaxis": {
            "backgroundcolor": "#E5ECF6",
            "gridcolor": "white",
            "gridwidth": 2,
            "linecolor": "white",
            "showbackground": true,
            "ticks": "",
            "zerolinecolor": "white"
           },
           "yaxis": {
            "backgroundcolor": "#E5ECF6",
            "gridcolor": "white",
            "gridwidth": 2,
            "linecolor": "white",
            "showbackground": true,
            "ticks": "",
            "zerolinecolor": "white"
           },
           "zaxis": {
            "backgroundcolor": "#E5ECF6",
            "gridcolor": "white",
            "gridwidth": 2,
            "linecolor": "white",
            "showbackground": true,
            "ticks": "",
            "zerolinecolor": "white"
           }
          },
          "shapedefaults": {
           "line": {
            "color": "#2a3f5f"
           }
          },
          "ternary": {
           "aaxis": {
            "gridcolor": "white",
            "linecolor": "white",
            "ticks": ""
           },
           "baxis": {
            "gridcolor": "white",
            "linecolor": "white",
            "ticks": ""
           },
           "bgcolor": "#E5ECF6",
           "caxis": {
            "gridcolor": "white",
            "linecolor": "white",
            "ticks": ""
           }
          },
          "title": {
           "x": 0.05
          },
          "xaxis": {
           "automargin": true,
           "gridcolor": "white",
           "linecolor": "white",
           "ticks": "",
           "title": {
            "standoff": 15
           },
           "zerolinecolor": "white",
           "zerolinewidth": 2
          },
          "yaxis": {
           "automargin": true,
           "gridcolor": "white",
           "linecolor": "white",
           "ticks": "",
           "title": {
            "standoff": 15
           },
           "zerolinecolor": "white",
           "zerolinewidth": 2
          }
         }
        },
        "title": {
         "text": "Scatterplot of Delta by entry_page"
        },
        "xaxis": {
         "anchor": "y",
         "domain": [
          0,
          1
         ],
         "tickangle": 75,
         "title": {
          "text": "entry_page"
         }
        },
        "yaxis": {
         "anchor": "x",
         "domain": [
          0,
          1
         ],
         "title": {
          "text": "Delta"
         }
        }
       }
      }
     },
     "metadata": {},
     "output_type": "display_data"
    }
   ],
   "source": [
    "# outliers by zscore\n",
    "outliers_zscore = comp.get_outliers_zscore()\n",
    "comp.get_scatter_outliers(outliers_zscore)"
   ]
  },
  {
   "cell_type": "code",
   "execution_count": 9,
   "metadata": {},
   "outputs": [
    {
     "data": {
      "application/vnd.plotly.v1+json": {
       "config": {
        "plotlyServerURL": "https://plot.ly"
       },
       "data": [
        {
         "hovertemplate": "entry_page=%{x}<br>Data=%{y}<extra></extra>",
         "legendgroup": "",
         "marker": {
          "color": "blue",
          "opacity": 0.5,
          "size": 5,
          "symbol": "circle"
         },
         "mode": "markers",
         "name": "",
         "orientation": "v",
         "showlegend": false,
         "type": "scatter",
         "x": [
          "shop.googlemerchandisestore.com/asearch.html",
          "shop.googlemerchandisestore.com/asearch.html/quickview",
          "shop.googlemerchandisestore.com/basket.html",
          "shop.googlemerchandisestore.com/google+redesign/accessories",
          "shop.googlemerchandisestore.com/google+redesign/accessories/fun",
          "shop.googlemerchandisestore.com/google+redesign/accessories/pet",
          "shop.googlemerchandisestore.com/google+redesign/accessories/stickers/home",
          "shop.googlemerchandisestore.com/google+redesign/apparel",
          "shop.googlemerchandisestore.com/google+redesign/apparel/headgear",
          "shop.googlemerchandisestore.com/google+redesign/apparel/headgear/youtube+wool+heather+cap+heather+black.axd",
          "shop.googlemerchandisestore.com/google+redesign/apparel/kid+s/kid+s+infant",
          "shop.googlemerchandisestore.com/google+redesign/apparel/kid+s/kid+s+toddler",
          "shop.googlemerchandisestore.com/google+redesign/apparel/kid+s/kid+s+youth",
          "shop.googlemerchandisestore.com/google+redesign/apparel/kids/kids+infant/google+zip+hood+pink.axd",
          "shop.googlemerchandisestore.com/google+redesign/apparel/kids/kids+infant/youtube+onesie+heather.axd",
          "shop.googlemerchandisestore.com/google+redesign/apparel/men++s",
          "shop.googlemerchandisestore.com/google+redesign/apparel/men++s/men++s+bike+gear",
          "shop.googlemerchandisestore.com/google+redesign/apparel/men++s/men++s+outerwear",
          "shop.googlemerchandisestore.com/google+redesign/apparel/men++s/men++s+t+shirts",
          "shop.googlemerchandisestore.com/google+redesign/apparel/men++s/men++s+t+shirts/quickview",
          "shop.googlemerchandisestore.com/google+redesign/apparel/men+s+google+convertible+jacket+vest+pewter.axd",
          "shop.googlemerchandisestore.com/google+redesign/apparel/men+s+t+shirts/google+mens+long+sleeve+raglan+ocean+blue.axd",
          "shop.googlemerchandisestore.com/google+redesign/apparel/men+s+t+shirts/google+mens+short+sleeve+hero+tee+white.axd",
          "shop.googlemerchandisestore.com/google+redesign/apparel/men+s+t+shirts/youtube+mens+fleece+hoodie+black.axd",
          "shop.googlemerchandisestore.com/google+redesign/apparel/men+s+t+shirts/youtube+mens+s+s+hero+tee.axd",
          "shop.googlemerchandisestore.com/google+redesign/apparel/men+s+t+shirts/youtube+womens+fleece+hoodie+black.axd",
          "shop.googlemerchandisestore.com/google+redesign/apparel/mens/mens+performance+wear",
          "shop.googlemerchandisestore.com/google+redesign/apparel/women+s/women+s+outerwear",
          "shop.googlemerchandisestore.com/google+redesign/apparel/women+s/women+s+t+shirts",
          "shop.googlemerchandisestore.com/google+redesign/apparel/women+s/women+s+t+shirts/google+womens+short+sleeve+hero+tee.axd",
          "shop.googlemerchandisestore.com/google+redesign/apparel/womens+outerwear/google+womens+fleece+hoodie.axd",
          "shop.googlemerchandisestore.com/google+redesign/apparel/womens+performance+wear",
          "shop.googlemerchandisestore.com/google+redesign/bags",
          "shop.googlemerchandisestore.com/google+redesign/bags/backpacks/google+alpine+style+backpack.axd",
          "shop.googlemerchandisestore.com/google+redesign/bags/backpacks/google+laptop+backpack.axd",
          "shop.googlemerchandisestore.com/google+redesign/bags/backpacks/waterproof+backpack.axd",
          "shop.googlemerchandisestore.com/google+redesign/bags/more+bags",
          "shop.googlemerchandisestore.com/google+redesign/bags/quickview",
          "shop.googlemerchandisestore.com/google+redesign/bags/shopping+and+totes",
          "shop.googlemerchandisestore.com/google+redesign/bags/totes/google+tote+bag.axd",
          "shop.googlemerchandisestore.com/google+redesign/bags/water+bottles+and+tumblers",
          "shop.googlemerchandisestore.com/google+redesign/drinkware",
          "shop.googlemerchandisestore.com/google+redesign/drinkware/bottles/22+oz+youtube+bottle+infuser+black.axd",
          "shop.googlemerchandisestore.com/google+redesign/drinkware/bottles/google+22+oz+water+bottle.axd",
          "shop.googlemerchandisestore.com/google+redesign/drinkware/bottles/google+accent+insulated+stainless+steel+bottle.axd",
          "shop.googlemerchandisestore.com/google+redesign/drinkware/bottles/google+insulated+stainless+steel+bottle.axd",
          "shop.googlemerchandisestore.com/google+redesign/drinkware/mugs+and+cups",
          "shop.googlemerchandisestore.com/google+redesign/drinkware/mugs/android+4oz+rise+mug.axd",
          "shop.googlemerchandisestore.com/google+redesign/electronic/accessories/recycled+mouse+pad.axd",
          "shop.googlemerchandisestore.com/google+redesign/electronics",
          "shop.googlemerchandisestore.com/google+redesign/electronics/accessories/google+electronics+accessory+pouch.axd",
          "shop.googlemerchandisestore.com/google+redesign/electronics/accessories/keyboard+dot+sticker.axd",
          "shop.googlemerchandisestore.com/google+redesign/electronics/audio",
          "shop.googlemerchandisestore.com/google+redesign/electronics/audio/google+bluetooth+headphones.axd",
          "shop.googlemerchandisestore.com/google+redesign/electronics/audio/google+g+noise+reducing+bluetooth+headphones.axd",
          "shop.googlemerchandisestore.com/google+redesign/electronics/audio/micro+wireless+earbud.axd",
          "shop.googlemerchandisestore.com/google+redesign/electronics/electronics+accessories",
          "shop.googlemerchandisestore.com/google+redesign/electronics/flashlights",
          "shop.googlemerchandisestore.com/google+redesign/electronics/google+pocket+bluetooth+speaker.axd",
          "shop.googlemerchandisestore.com/google+redesign/electronics/power",
          "shop.googlemerchandisestore.com/google+redesign/electronics/power/google+power+bank+black.axd",
          "shop.googlemerchandisestore.com/google+redesign/electronics/power/google+tube+power+bank.axd",
          "shop.googlemerchandisestore.com/google+redesign/gift+cards",
          "shop.googlemerchandisestore.com/google+redesign/lifestyle",
          "shop.googlemerchandisestore.com/google+redesign/lifestyle/fun/malibu+sunglasses.axd",
          "shop.googlemerchandisestore.com/google+redesign/lifestyle/fun/windup+android.axd",
          "shop.googlemerchandisestore.com/google+redesign/nest/nest+usa/nest+learning+thermostat+3rd+gen+usa+stainless+steel.axd",
          "shop.googlemerchandisestore.com/google+redesign/office",
          "shop.googlemerchandisestore.com/google+redesign/office/notebooks++journals",
          "shop.googlemerchandisestore.com/google+redesign/office/notebooks+journals/google+metallic+notebook+set.axd",
          "shop.googlemerchandisestore.com/google+redesign/office/notebooks+journals/red+spiral+google+notebook.axd",
          "shop.googlemerchandisestore.com/google+redesign/office/stickers/google+doodle+decal.axd",
          "shop.googlemerchandisestore.com/google+redesign/office/stickers/google+laptop+and+cell+phone+stickers.axd",
          "shop.googlemerchandisestore.com/google+redesign/office/stickers/youtube+custom+decals.axd",
          "shop.googlemerchandisestore.com/google+redesign/office/writing+instruments",
          "shop.googlemerchandisestore.com/google+redesign/office/writing/google+stylus+pen+w+led+light.axd",
          "shop.googlemerchandisestore.com/google+redesign/office/writing/maze+pen.axd",
          "shop.googlemerchandisestore.com/google+redesign/office/writing/pen+pencil+highlighter+set.axd",
          "shop.googlemerchandisestore.com/google+redesign/shop+by+brand",
          "shop.googlemerchandisestore.com/google+redesign/shop+by+brand/android",
          "shop.googlemerchandisestore.com/google+redesign/shop+by+brand/google",
          "shop.googlemerchandisestore.com/google+redesign/shop+by+brand/waze+baby+on+board+window+decal.axd",
          "shop.googlemerchandisestore.com/google+redesign/shop+by+brand/youtube",
          "shop.googlemerchandisestore.com/google+redesign/shop+by+brand/youtube/quickview",
          "shop.googlemerchandisestore.com/home",
          "shop.googlemerchandisestore.com/register.html",
          "shop.googlemerchandisestore.com/signin.html",
          "shop.googlemerchandisestore.com/store-policies/frequently-asked-questions/home",
          "shop.googlemerchandisestore.com/store-policies/return-policy/home",
          "shop.googlemerchandisestore.com/store.html",
          "shop.googlemerchandisestore.com/storeitem.html",
          "www.googlemerchandisestore.com/home"
         ],
         "xaxis": "x",
         "y": [
          32,
          0,
          96,
          48,
          13,
          1,
          39,
          123,
          178,
          1,
          15,
          31,
          31,
          0,
          4,
          34,
          16,
          352,
          1094,
          2,
          2,
          1,
          3,
          4,
          -1,
          5,
          5,
          10,
          90,
          0,
          4,
          2,
          201,
          10,
          10,
          3,
          26,
          1,
          10,
          3,
          32,
          314,
          4,
          12,
          0,
          0,
          48,
          1,
          14,
          102,
          21,
          2,
          13,
          44,
          111,
          0,
          1,
          -1,
          0,
          2,
          49,
          8,
          7,
          0,
          23,
          7,
          24,
          15,
          56,
          0,
          0,
          1,
          11,
          10,
          8,
          6,
          8,
          48,
          2,
          64,
          52,
          1,
          2964,
          4,
          2643,
          2,
          80,
          9,
          0,
          24,
          4,
          6354
         ],
         "yaxis": "y"
        },
        {
         "hovertemplate": "entry_page=%{x}<br>Outliers=%{y}<extra></extra>",
         "legendgroup": "",
         "marker": {
          "color": "red",
          "size": 5,
          "symbol": "circle"
         },
         "mode": "markers",
         "name": "",
         "orientation": "v",
         "showlegend": false,
         "type": "scatter",
         "x": [
          "shop.googlemerchandisestore.com/basket.html",
          "shop.googlemerchandisestore.com/google+redesign/apparel",
          "shop.googlemerchandisestore.com/google+redesign/apparel/headgear",
          "shop.googlemerchandisestore.com/google+redesign/apparel/men++s/men++s+outerwear",
          "shop.googlemerchandisestore.com/google+redesign/apparel/men++s/men++s+t+shirts",
          "shop.googlemerchandisestore.com/google+redesign/apparel/women+s/women+s+t+shirts",
          "shop.googlemerchandisestore.com/google+redesign/bags",
          "shop.googlemerchandisestore.com/google+redesign/drinkware",
          "shop.googlemerchandisestore.com/google+redesign/electronics",
          "shop.googlemerchandisestore.com/google+redesign/electronics/audio/google+g+noise+reducing+bluetooth+headphones.axd",
          "shop.googlemerchandisestore.com/google+redesign/shop+by+brand/youtube",
          "shop.googlemerchandisestore.com/home",
          "www.googlemerchandisestore.com/home"
         ],
         "xaxis": "x",
         "y": [
          96,
          123,
          178,
          352,
          1094,
          90,
          201,
          314,
          102,
          111,
          2964,
          2643,
          6354
         ],
         "yaxis": "y"
        }
       ],
       "layout": {
        "legend": {
         "tracegroupgap": 0
        },
        "template": {
         "data": {
          "bar": [
           {
            "error_x": {
             "color": "#2a3f5f"
            },
            "error_y": {
             "color": "#2a3f5f"
            },
            "marker": {
             "line": {
              "color": "#E5ECF6",
              "width": 0.5
             },
             "pattern": {
              "fillmode": "overlay",
              "size": 10,
              "solidity": 0.2
             }
            },
            "type": "bar"
           }
          ],
          "barpolar": [
           {
            "marker": {
             "line": {
              "color": "#E5ECF6",
              "width": 0.5
             },
             "pattern": {
              "fillmode": "overlay",
              "size": 10,
              "solidity": 0.2
             }
            },
            "type": "barpolar"
           }
          ],
          "carpet": [
           {
            "aaxis": {
             "endlinecolor": "#2a3f5f",
             "gridcolor": "white",
             "linecolor": "white",
             "minorgridcolor": "white",
             "startlinecolor": "#2a3f5f"
            },
            "baxis": {
             "endlinecolor": "#2a3f5f",
             "gridcolor": "white",
             "linecolor": "white",
             "minorgridcolor": "white",
             "startlinecolor": "#2a3f5f"
            },
            "type": "carpet"
           }
          ],
          "choropleth": [
           {
            "colorbar": {
             "outlinewidth": 0,
             "ticks": ""
            },
            "type": "choropleth"
           }
          ],
          "contour": [
           {
            "colorbar": {
             "outlinewidth": 0,
             "ticks": ""
            },
            "colorscale": [
             [
              0,
              "#0d0887"
             ],
             [
              0.1111111111111111,
              "#46039f"
             ],
             [
              0.2222222222222222,
              "#7201a8"
             ],
             [
              0.3333333333333333,
              "#9c179e"
             ],
             [
              0.4444444444444444,
              "#bd3786"
             ],
             [
              0.5555555555555556,
              "#d8576b"
             ],
             [
              0.6666666666666666,
              "#ed7953"
             ],
             [
              0.7777777777777778,
              "#fb9f3a"
             ],
             [
              0.8888888888888888,
              "#fdca26"
             ],
             [
              1,
              "#f0f921"
             ]
            ],
            "type": "contour"
           }
          ],
          "contourcarpet": [
           {
            "colorbar": {
             "outlinewidth": 0,
             "ticks": ""
            },
            "type": "contourcarpet"
           }
          ],
          "heatmap": [
           {
            "colorbar": {
             "outlinewidth": 0,
             "ticks": ""
            },
            "colorscale": [
             [
              0,
              "#0d0887"
             ],
             [
              0.1111111111111111,
              "#46039f"
             ],
             [
              0.2222222222222222,
              "#7201a8"
             ],
             [
              0.3333333333333333,
              "#9c179e"
             ],
             [
              0.4444444444444444,
              "#bd3786"
             ],
             [
              0.5555555555555556,
              "#d8576b"
             ],
             [
              0.6666666666666666,
              "#ed7953"
             ],
             [
              0.7777777777777778,
              "#fb9f3a"
             ],
             [
              0.8888888888888888,
              "#fdca26"
             ],
             [
              1,
              "#f0f921"
             ]
            ],
            "type": "heatmap"
           }
          ],
          "heatmapgl": [
           {
            "colorbar": {
             "outlinewidth": 0,
             "ticks": ""
            },
            "colorscale": [
             [
              0,
              "#0d0887"
             ],
             [
              0.1111111111111111,
              "#46039f"
             ],
             [
              0.2222222222222222,
              "#7201a8"
             ],
             [
              0.3333333333333333,
              "#9c179e"
             ],
             [
              0.4444444444444444,
              "#bd3786"
             ],
             [
              0.5555555555555556,
              "#d8576b"
             ],
             [
              0.6666666666666666,
              "#ed7953"
             ],
             [
              0.7777777777777778,
              "#fb9f3a"
             ],
             [
              0.8888888888888888,
              "#fdca26"
             ],
             [
              1,
              "#f0f921"
             ]
            ],
            "type": "heatmapgl"
           }
          ],
          "histogram": [
           {
            "marker": {
             "pattern": {
              "fillmode": "overlay",
              "size": 10,
              "solidity": 0.2
             }
            },
            "type": "histogram"
           }
          ],
          "histogram2d": [
           {
            "colorbar": {
             "outlinewidth": 0,
             "ticks": ""
            },
            "colorscale": [
             [
              0,
              "#0d0887"
             ],
             [
              0.1111111111111111,
              "#46039f"
             ],
             [
              0.2222222222222222,
              "#7201a8"
             ],
             [
              0.3333333333333333,
              "#9c179e"
             ],
             [
              0.4444444444444444,
              "#bd3786"
             ],
             [
              0.5555555555555556,
              "#d8576b"
             ],
             [
              0.6666666666666666,
              "#ed7953"
             ],
             [
              0.7777777777777778,
              "#fb9f3a"
             ],
             [
              0.8888888888888888,
              "#fdca26"
             ],
             [
              1,
              "#f0f921"
             ]
            ],
            "type": "histogram2d"
           }
          ],
          "histogram2dcontour": [
           {
            "colorbar": {
             "outlinewidth": 0,
             "ticks": ""
            },
            "colorscale": [
             [
              0,
              "#0d0887"
             ],
             [
              0.1111111111111111,
              "#46039f"
             ],
             [
              0.2222222222222222,
              "#7201a8"
             ],
             [
              0.3333333333333333,
              "#9c179e"
             ],
             [
              0.4444444444444444,
              "#bd3786"
             ],
             [
              0.5555555555555556,
              "#d8576b"
             ],
             [
              0.6666666666666666,
              "#ed7953"
             ],
             [
              0.7777777777777778,
              "#fb9f3a"
             ],
             [
              0.8888888888888888,
              "#fdca26"
             ],
             [
              1,
              "#f0f921"
             ]
            ],
            "type": "histogram2dcontour"
           }
          ],
          "mesh3d": [
           {
            "colorbar": {
             "outlinewidth": 0,
             "ticks": ""
            },
            "type": "mesh3d"
           }
          ],
          "parcoords": [
           {
            "line": {
             "colorbar": {
              "outlinewidth": 0,
              "ticks": ""
             }
            },
            "type": "parcoords"
           }
          ],
          "pie": [
           {
            "automargin": true,
            "type": "pie"
           }
          ],
          "scatter": [
           {
            "fillpattern": {
             "fillmode": "overlay",
             "size": 10,
             "solidity": 0.2
            },
            "type": "scatter"
           }
          ],
          "scatter3d": [
           {
            "line": {
             "colorbar": {
              "outlinewidth": 0,
              "ticks": ""
             }
            },
            "marker": {
             "colorbar": {
              "outlinewidth": 0,
              "ticks": ""
             }
            },
            "type": "scatter3d"
           }
          ],
          "scattercarpet": [
           {
            "marker": {
             "colorbar": {
              "outlinewidth": 0,
              "ticks": ""
             }
            },
            "type": "scattercarpet"
           }
          ],
          "scattergeo": [
           {
            "marker": {
             "colorbar": {
              "outlinewidth": 0,
              "ticks": ""
             }
            },
            "type": "scattergeo"
           }
          ],
          "scattergl": [
           {
            "marker": {
             "colorbar": {
              "outlinewidth": 0,
              "ticks": ""
             }
            },
            "type": "scattergl"
           }
          ],
          "scattermapbox": [
           {
            "marker": {
             "colorbar": {
              "outlinewidth": 0,
              "ticks": ""
             }
            },
            "type": "scattermapbox"
           }
          ],
          "scatterpolar": [
           {
            "marker": {
             "colorbar": {
              "outlinewidth": 0,
              "ticks": ""
             }
            },
            "type": "scatterpolar"
           }
          ],
          "scatterpolargl": [
           {
            "marker": {
             "colorbar": {
              "outlinewidth": 0,
              "ticks": ""
             }
            },
            "type": "scatterpolargl"
           }
          ],
          "scatterternary": [
           {
            "marker": {
             "colorbar": {
              "outlinewidth": 0,
              "ticks": ""
             }
            },
            "type": "scatterternary"
           }
          ],
          "surface": [
           {
            "colorbar": {
             "outlinewidth": 0,
             "ticks": ""
            },
            "colorscale": [
             [
              0,
              "#0d0887"
             ],
             [
              0.1111111111111111,
              "#46039f"
             ],
             [
              0.2222222222222222,
              "#7201a8"
             ],
             [
              0.3333333333333333,
              "#9c179e"
             ],
             [
              0.4444444444444444,
              "#bd3786"
             ],
             [
              0.5555555555555556,
              "#d8576b"
             ],
             [
              0.6666666666666666,
              "#ed7953"
             ],
             [
              0.7777777777777778,
              "#fb9f3a"
             ],
             [
              0.8888888888888888,
              "#fdca26"
             ],
             [
              1,
              "#f0f921"
             ]
            ],
            "type": "surface"
           }
          ],
          "table": [
           {
            "cells": {
             "fill": {
              "color": "#EBF0F8"
             },
             "line": {
              "color": "white"
             }
            },
            "header": {
             "fill": {
              "color": "#C8D4E3"
             },
             "line": {
              "color": "white"
             }
            },
            "type": "table"
           }
          ]
         },
         "layout": {
          "annotationdefaults": {
           "arrowcolor": "#2a3f5f",
           "arrowhead": 0,
           "arrowwidth": 1
          },
          "autotypenumbers": "strict",
          "coloraxis": {
           "colorbar": {
            "outlinewidth": 0,
            "ticks": ""
           }
          },
          "colorscale": {
           "diverging": [
            [
             0,
             "#8e0152"
            ],
            [
             0.1,
             "#c51b7d"
            ],
            [
             0.2,
             "#de77ae"
            ],
            [
             0.3,
             "#f1b6da"
            ],
            [
             0.4,
             "#fde0ef"
            ],
            [
             0.5,
             "#f7f7f7"
            ],
            [
             0.6,
             "#e6f5d0"
            ],
            [
             0.7,
             "#b8e186"
            ],
            [
             0.8,
             "#7fbc41"
            ],
            [
             0.9,
             "#4d9221"
            ],
            [
             1,
             "#276419"
            ]
           ],
           "sequential": [
            [
             0,
             "#0d0887"
            ],
            [
             0.1111111111111111,
             "#46039f"
            ],
            [
             0.2222222222222222,
             "#7201a8"
            ],
            [
             0.3333333333333333,
             "#9c179e"
            ],
            [
             0.4444444444444444,
             "#bd3786"
            ],
            [
             0.5555555555555556,
             "#d8576b"
            ],
            [
             0.6666666666666666,
             "#ed7953"
            ],
            [
             0.7777777777777778,
             "#fb9f3a"
            ],
            [
             0.8888888888888888,
             "#fdca26"
            ],
            [
             1,
             "#f0f921"
            ]
           ],
           "sequentialminus": [
            [
             0,
             "#0d0887"
            ],
            [
             0.1111111111111111,
             "#46039f"
            ],
            [
             0.2222222222222222,
             "#7201a8"
            ],
            [
             0.3333333333333333,
             "#9c179e"
            ],
            [
             0.4444444444444444,
             "#bd3786"
            ],
            [
             0.5555555555555556,
             "#d8576b"
            ],
            [
             0.6666666666666666,
             "#ed7953"
            ],
            [
             0.7777777777777778,
             "#fb9f3a"
            ],
            [
             0.8888888888888888,
             "#fdca26"
            ],
            [
             1,
             "#f0f921"
            ]
           ]
          },
          "colorway": [
           "#636efa",
           "#EF553B",
           "#00cc96",
           "#ab63fa",
           "#FFA15A",
           "#19d3f3",
           "#FF6692",
           "#B6E880",
           "#FF97FF",
           "#FECB52"
          ],
          "font": {
           "color": "#2a3f5f"
          },
          "geo": {
           "bgcolor": "white",
           "lakecolor": "white",
           "landcolor": "#E5ECF6",
           "showlakes": true,
           "showland": true,
           "subunitcolor": "white"
          },
          "hoverlabel": {
           "align": "left"
          },
          "hovermode": "closest",
          "mapbox": {
           "style": "light"
          },
          "paper_bgcolor": "white",
          "plot_bgcolor": "#E5ECF6",
          "polar": {
           "angularaxis": {
            "gridcolor": "white",
            "linecolor": "white",
            "ticks": ""
           },
           "bgcolor": "#E5ECF6",
           "radialaxis": {
            "gridcolor": "white",
            "linecolor": "white",
            "ticks": ""
           }
          },
          "scene": {
           "xaxis": {
            "backgroundcolor": "#E5ECF6",
            "gridcolor": "white",
            "gridwidth": 2,
            "linecolor": "white",
            "showbackground": true,
            "ticks": "",
            "zerolinecolor": "white"
           },
           "yaxis": {
            "backgroundcolor": "#E5ECF6",
            "gridcolor": "white",
            "gridwidth": 2,
            "linecolor": "white",
            "showbackground": true,
            "ticks": "",
            "zerolinecolor": "white"
           },
           "zaxis": {
            "backgroundcolor": "#E5ECF6",
            "gridcolor": "white",
            "gridwidth": 2,
            "linecolor": "white",
            "showbackground": true,
            "ticks": "",
            "zerolinecolor": "white"
           }
          },
          "shapedefaults": {
           "line": {
            "color": "#2a3f5f"
           }
          },
          "ternary": {
           "aaxis": {
            "gridcolor": "white",
            "linecolor": "white",
            "ticks": ""
           },
           "baxis": {
            "gridcolor": "white",
            "linecolor": "white",
            "ticks": ""
           },
           "bgcolor": "#E5ECF6",
           "caxis": {
            "gridcolor": "white",
            "linecolor": "white",
            "ticks": ""
           }
          },
          "title": {
           "x": 0.05
          },
          "xaxis": {
           "automargin": true,
           "gridcolor": "white",
           "linecolor": "white",
           "ticks": "",
           "title": {
            "standoff": 15
           },
           "zerolinecolor": "white",
           "zerolinewidth": 2
          },
          "yaxis": {
           "automargin": true,
           "gridcolor": "white",
           "linecolor": "white",
           "ticks": "",
           "title": {
            "standoff": 15
           },
           "zerolinecolor": "white",
           "zerolinewidth": 2
          }
         }
        },
        "title": {
         "text": "Scatterplot of Delta by entry_page"
        },
        "xaxis": {
         "anchor": "y",
         "domain": [
          0,
          1
         ],
         "tickangle": 75,
         "title": {
          "text": "entry_page"
         }
        },
        "yaxis": {
         "anchor": "x",
         "domain": [
          0,
          1
         ],
         "title": {
          "text": "Delta"
         }
        }
       }
      }
     },
     "metadata": {},
     "output_type": "display_data"
    }
   ],
   "source": [
    "# outliers by interquartile range\n",
    "outliers_iqr = comp.get_outliers_iqr()\n",
    "comp.get_scatter_outliers(outliers_iqr)"
   ]
  },
  {
   "cell_type": "code",
   "execution_count": 10,
   "metadata": {},
   "outputs": [
    {
     "data": {
      "text/html": [
       "<div>\n",
       "<style scoped>\n",
       "    .dataframe tbody tr th:only-of-type {\n",
       "        vertical-align: middle;\n",
       "    }\n",
       "\n",
       "    .dataframe tbody tr th {\n",
       "        vertical-align: top;\n",
       "    }\n",
       "\n",
       "    .dataframe thead th {\n",
       "        text-align: right;\n",
       "    }\n",
       "</style>\n",
       "<table border=\"1\" class=\"dataframe\">\n",
       "  <thead>\n",
       "    <tr style=\"text-align: right;\">\n",
       "      <th></th>\n",
       "      <th>visits_pre</th>\n",
       "      <th>visits_post</th>\n",
       "      <th>delta</th>\n",
       "      <th>%delta</th>\n",
       "      <th>z_score</th>\n",
       "    </tr>\n",
       "    <tr>\n",
       "      <th>entry_page</th>\n",
       "      <th></th>\n",
       "      <th></th>\n",
       "      <th></th>\n",
       "      <th></th>\n",
       "      <th></th>\n",
       "    </tr>\n",
       "  </thead>\n",
       "  <tbody>\n",
       "    <tr>\n",
       "      <th>shop.googlemerchandisestore.com/basket.html</th>\n",
       "      <td>20</td>\n",
       "      <td>116</td>\n",
       "      <td>96.0</td>\n",
       "      <td>480.00%</td>\n",
       "      <td>-0.096549</td>\n",
       "    </tr>\n",
       "    <tr>\n",
       "      <th>shop.googlemerchandisestore.com/google+redesign/apparel</th>\n",
       "      <td>21</td>\n",
       "      <td>144</td>\n",
       "      <td>123.0</td>\n",
       "      <td>585.71%</td>\n",
       "      <td>-0.061645</td>\n",
       "    </tr>\n",
       "    <tr>\n",
       "      <th>shop.googlemerchandisestore.com/google+redesign/apparel/headgear</th>\n",
       "      <td>32</td>\n",
       "      <td>210</td>\n",
       "      <td>178.0</td>\n",
       "      <td>556.25%</td>\n",
       "      <td>0.009457</td>\n",
       "    </tr>\n",
       "    <tr>\n",
       "      <th>shop.googlemerchandisestore.com/google+redesign/apparel/men++s/men++s+outerwear</th>\n",
       "      <td>67</td>\n",
       "      <td>419</td>\n",
       "      <td>352.0</td>\n",
       "      <td>525.37%</td>\n",
       "      <td>0.234396</td>\n",
       "    </tr>\n",
       "    <tr>\n",
       "      <th>shop.googlemerchandisestore.com/google+redesign/apparel/men++s/men++s+t+shirts</th>\n",
       "      <td>179</td>\n",
       "      <td>1273</td>\n",
       "      <td>1094.0</td>\n",
       "      <td>611.17%</td>\n",
       "      <td>1.193617</td>\n",
       "    </tr>\n",
       "    <tr>\n",
       "      <th>shop.googlemerchandisestore.com/google+redesign/apparel/women+s/women+s+t+shirts</th>\n",
       "      <td>12</td>\n",
       "      <td>102</td>\n",
       "      <td>90.0</td>\n",
       "      <td>750.00%</td>\n",
       "      <td>-0.104305</td>\n",
       "    </tr>\n",
       "    <tr>\n",
       "      <th>shop.googlemerchandisestore.com/google+redesign/bags</th>\n",
       "      <td>58</td>\n",
       "      <td>259</td>\n",
       "      <td>201.0</td>\n",
       "      <td>346.55%</td>\n",
       "      <td>0.039190</td>\n",
       "    </tr>\n",
       "    <tr>\n",
       "      <th>shop.googlemerchandisestore.com/google+redesign/drinkware</th>\n",
       "      <td>49</td>\n",
       "      <td>363</td>\n",
       "      <td>314.0</td>\n",
       "      <td>640.82%</td>\n",
       "      <td>0.185271</td>\n",
       "    </tr>\n",
       "    <tr>\n",
       "      <th>shop.googlemerchandisestore.com/google+redesign/electronics</th>\n",
       "      <td>16</td>\n",
       "      <td>118</td>\n",
       "      <td>102.0</td>\n",
       "      <td>637.50%</td>\n",
       "      <td>-0.088792</td>\n",
       "    </tr>\n",
       "    <tr>\n",
       "      <th>shop.googlemerchandisestore.com/google+redesign/electronics/audio/google+g+noise+reducing+bluetooth+headphones.axd</th>\n",
       "      <td>14</td>\n",
       "      <td>125</td>\n",
       "      <td>111.0</td>\n",
       "      <td>792.86%</td>\n",
       "      <td>-0.077158</td>\n",
       "    </tr>\n",
       "    <tr>\n",
       "      <th>shop.googlemerchandisestore.com/google+redesign/shop+by+brand/youtube</th>\n",
       "      <td>523</td>\n",
       "      <td>3487</td>\n",
       "      <td>2964.0</td>\n",
       "      <td>566.73%</td>\n",
       "      <td>3.611063</td>\n",
       "    </tr>\n",
       "    <tr>\n",
       "      <th>shop.googlemerchandisestore.com/home</th>\n",
       "      <td>320</td>\n",
       "      <td>2963</td>\n",
       "      <td>2643.0</td>\n",
       "      <td>825.94%</td>\n",
       "      <td>3.196089</td>\n",
       "    </tr>\n",
       "    <tr>\n",
       "      <th>www.googlemerchandisestore.com/home</th>\n",
       "      <td>1200</td>\n",
       "      <td>7554</td>\n",
       "      <td>6354.0</td>\n",
       "      <td>529.50%</td>\n",
       "      <td>7.993491</td>\n",
       "    </tr>\n",
       "  </tbody>\n",
       "</table>\n",
       "</div>"
      ],
      "text/plain": [
       "                                                    visits_pre  visits_post  \\\n",
       "entry_page                                                                    \n",
       "shop.googlemerchandisestore.com/basket.html                 20          116   \n",
       "shop.googlemerchandisestore.com/google+redesign...          21          144   \n",
       "shop.googlemerchandisestore.com/google+redesign...          32          210   \n",
       "shop.googlemerchandisestore.com/google+redesign...          67          419   \n",
       "shop.googlemerchandisestore.com/google+redesign...         179         1273   \n",
       "shop.googlemerchandisestore.com/google+redesign...          12          102   \n",
       "shop.googlemerchandisestore.com/google+redesign...          58          259   \n",
       "shop.googlemerchandisestore.com/google+redesign...          49          363   \n",
       "shop.googlemerchandisestore.com/google+redesign...          16          118   \n",
       "shop.googlemerchandisestore.com/google+redesign...          14          125   \n",
       "shop.googlemerchandisestore.com/google+redesign...         523         3487   \n",
       "shop.googlemerchandisestore.com/home                       320         2963   \n",
       "www.googlemerchandisestore.com/home                       1200         7554   \n",
       "\n",
       "                                                     delta   %delta   z_score  \n",
       "entry_page                                                                     \n",
       "shop.googlemerchandisestore.com/basket.html           96.0  480.00% -0.096549  \n",
       "shop.googlemerchandisestore.com/google+redesign...   123.0  585.71% -0.061645  \n",
       "shop.googlemerchandisestore.com/google+redesign...   178.0  556.25%  0.009457  \n",
       "shop.googlemerchandisestore.com/google+redesign...   352.0  525.37%  0.234396  \n",
       "shop.googlemerchandisestore.com/google+redesign...  1094.0  611.17%  1.193617  \n",
       "shop.googlemerchandisestore.com/google+redesign...    90.0  750.00% -0.104305  \n",
       "shop.googlemerchandisestore.com/google+redesign...   201.0  346.55%  0.039190  \n",
       "shop.googlemerchandisestore.com/google+redesign...   314.0  640.82%  0.185271  \n",
       "shop.googlemerchandisestore.com/google+redesign...   102.0  637.50% -0.088792  \n",
       "shop.googlemerchandisestore.com/google+redesign...   111.0  792.86% -0.077158  \n",
       "shop.googlemerchandisestore.com/google+redesign...  2964.0  566.73%  3.611063  \n",
       "shop.googlemerchandisestore.com/home                2643.0  825.94%  3.196089  \n",
       "www.googlemerchandisestore.com/home                 6354.0  529.50%  7.993491  "
      ]
     },
     "execution_count": 10,
     "metadata": {},
     "output_type": "execute_result"
    }
   ],
   "source": [
    "outliers_iqr"
   ]
  },
  {
   "cell_type": "code",
   "execution_count": null,
   "metadata": {},
   "outputs": [],
   "source": []
  }
 ],
 "metadata": {
  "kernelspec": {
   "display_name": "venv",
   "language": "python",
   "name": "python3"
  },
  "language_info": {
   "codemirror_mode": {
    "name": "ipython",
    "version": 3
   },
   "file_extension": ".py",
   "mimetype": "text/x-python",
   "name": "python",
   "nbconvert_exporter": "python",
   "pygments_lexer": "ipython3",
   "version": "3.11.5"
  },
  "orig_nbformat": 4
 },
 "nbformat": 4,
 "nbformat_minor": 2
}
